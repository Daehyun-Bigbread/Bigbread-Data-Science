{
 "cells": [
  {
   "cell_type": "code",
   "execution_count": 2,
   "id": "0580c3c6",
   "metadata": {},
   "outputs": [],
   "source": [
    "from keras.preprocessing.text import Tokenizer\n",
    "from keras.preprocessing.sequence import pad_sequences\n",
    "from keras.models import Sequential\n",
    "from keras.layers import Embedding, LSTM, Dense, Dropout\n",
    "from keras.utils import to_categorical"
   ]
  },
  {
   "cell_type": "code",
   "execution_count": 4,
   "id": "b6f40eaa",
   "metadata": {},
   "outputs": [],
   "source": [
    "import pandas as pd"
   ]
  },
  {
   "cell_type": "code",
   "execution_count": 5,
   "id": "92b8d72f",
   "metadata": {},
   "outputs": [
    {
     "data": {
      "text/html": [
       "<div>\n",
       "<style scoped>\n",
       "    .dataframe tbody tr th:only-of-type {\n",
       "        vertical-align: middle;\n",
       "    }\n",
       "\n",
       "    .dataframe tbody tr th {\n",
       "        vertical-align: top;\n",
       "    }\n",
       "\n",
       "    .dataframe thead th {\n",
       "        text-align: right;\n",
       "    }\n",
       "</style>\n",
       "<table border=\"1\" class=\"dataframe\">\n",
       "  <thead>\n",
       "    <tr style=\"text-align: right;\">\n",
       "      <th></th>\n",
       "      <th>id</th>\n",
       "      <th>text</th>\n",
       "      <th>sentiment</th>\n",
       "    </tr>\n",
       "  </thead>\n",
       "  <tbody>\n",
       "    <tr>\n",
       "      <th>0</th>\n",
       "      <td>TRAIN_00000</td>\n",
       "      <td>@SenWarren The problem with your massively fla...</td>\n",
       "      <td>2</td>\n",
       "    </tr>\n",
       "    <tr>\n",
       "      <th>1</th>\n",
       "      <td>TRAIN_00001</td>\n",
       "      <td>#Tweetlord is a twitter role playing game! Che...</td>\n",
       "      <td>1</td>\n",
       "    </tr>\n",
       "    <tr>\n",
       "      <th>2</th>\n",
       "      <td>TRAIN_00002</td>\n",
       "      <td>I just slammed my elbow into a fridge, I did n...</td>\n",
       "      <td>2</td>\n",
       "    </tr>\n",
       "    <tr>\n",
       "      <th>3</th>\n",
       "      <td>TRAIN_00003</td>\n",
       "      <td>_beckett Thanks so much !</td>\n",
       "      <td>1</td>\n",
       "    </tr>\n",
       "    <tr>\n",
       "      <th>4</th>\n",
       "      <td>TRAIN_00004</td>\n",
       "      <td>My gauge fell out on superman</td>\n",
       "      <td>2</td>\n",
       "    </tr>\n",
       "  </tbody>\n",
       "</table>\n",
       "</div>"
      ],
      "text/plain": [
       "            id                                               text  sentiment\n",
       "0  TRAIN_00000  @SenWarren The problem with your massively fla...          2\n",
       "1  TRAIN_00001  #Tweetlord is a twitter role playing game! Che...          1\n",
       "2  TRAIN_00002  I just slammed my elbow into a fridge, I did n...          2\n",
       "3  TRAIN_00003                          _beckett Thanks so much !          1\n",
       "4  TRAIN_00004                     My gauge fell out on superman           2"
      ]
     },
     "execution_count": 5,
     "metadata": {},
     "output_type": "execute_result"
    }
   ],
   "source": [
    "train_data = pd.read_csv('train.csv')\n",
    "train_data.head()"
   ]
  },
  {
   "cell_type": "code",
   "execution_count": 6,
   "id": "d9b80dd7",
   "metadata": {},
   "outputs": [
    {
     "data": {
      "text/html": [
       "<div>\n",
       "<style scoped>\n",
       "    .dataframe tbody tr th:only-of-type {\n",
       "        vertical-align: middle;\n",
       "    }\n",
       "\n",
       "    .dataframe tbody tr th {\n",
       "        vertical-align: top;\n",
       "    }\n",
       "\n",
       "    .dataframe thead th {\n",
       "        text-align: right;\n",
       "    }\n",
       "</style>\n",
       "<table border=\"1\" class=\"dataframe\">\n",
       "  <thead>\n",
       "    <tr style=\"text-align: right;\">\n",
       "      <th></th>\n",
       "      <th>id</th>\n",
       "      <th>text</th>\n",
       "    </tr>\n",
       "  </thead>\n",
       "  <tbody>\n",
       "    <tr>\n",
       "      <th>0</th>\n",
       "      <td>TEST_00000</td>\n",
       "      <td>@naima @dialogician Most of this footage is fr...</td>\n",
       "    </tr>\n",
       "    <tr>\n",
       "      <th>1</th>\n",
       "      <td>TEST_00001</td>\n",
       "      <td>@Haggis_UK @kevinhollinrake is willing to brea...</td>\n",
       "    </tr>\n",
       "    <tr>\n",
       "      <th>2</th>\n",
       "      <td>TEST_00002</td>\n",
       "      <td>‘No Magic Bullet’ for Preserving Abortion Acce...</td>\n",
       "    </tr>\n",
       "    <tr>\n",
       "      <th>3</th>\n",
       "      <td>TEST_00003</td>\n",
       "      <td>Can I also have a swirly flat white?</td>\n",
       "    </tr>\n",
       "    <tr>\n",
       "      <th>4</th>\n",
       "      <td>TEST_00004</td>\n",
       "      <td>Question: If the trains we have get disabled i...</td>\n",
       "    </tr>\n",
       "  </tbody>\n",
       "</table>\n",
       "</div>"
      ],
      "text/plain": [
       "           id                                               text\n",
       "0  TEST_00000  @naima @dialogician Most of this footage is fr...\n",
       "1  TEST_00001  @Haggis_UK @kevinhollinrake is willing to brea...\n",
       "2  TEST_00002  ‘No Magic Bullet’ for Preserving Abortion Acce...\n",
       "3  TEST_00003               Can I also have a swirly flat white?\n",
       "4  TEST_00004  Question: If the trains we have get disabled i..."
      ]
     },
     "execution_count": 6,
     "metadata": {},
     "output_type": "execute_result"
    }
   ],
   "source": [
    "test_data = pd.read_csv('test.csv')\n",
    "test_data.head()"
   ]
  },
  {
   "cell_type": "code",
   "execution_count": 7,
   "id": "63996eb8",
   "metadata": {},
   "outputs": [],
   "source": [
    "# 1. 데이터 준비\n",
    "train_texts = train_data['text'].values\n",
    "train_labels = to_categorical(train_data['sentiment'].values)\n",
    "\n",
    "test_texts = test_data['text'].values"
   ]
  },
  {
   "cell_type": "code",
   "execution_count": 8,
   "id": "a10257ac",
   "metadata": {},
   "outputs": [],
   "source": [
    "# 2. 텍스트 전처리\n",
    "tokenizer = Tokenizer()\n",
    "tokenizer.fit_on_texts(train_texts)\n",
    "train_sequences = tokenizer.texts_to_sequences(train_texts)\n",
    "test_sequences = tokenizer.texts_to_sequences(test_texts)\n",
    "\n",
    "word_index = tokenizer.word_index\n",
    "train_data_padded = pad_sequences(train_sequences)\n",
    "test_data_padded = pad_sequences(test_sequences, maxlen=train_data_padded.shape[1])"
   ]
  },
  {
   "cell_type": "code",
   "execution_count": 9,
   "id": "b42c0590",
   "metadata": {},
   "outputs": [],
   "source": [
    "# 3. 모델 정의\n",
    "model = Sequential()\n",
    "model.add(Embedding(len(word_index) + 1, 128))\n",
    "model.add(LSTM(128, dropout=0.2, recurrent_dropout=0.2))\n",
    "model.add(Dense(3, activation='softmax'))\n",
    "\n",
    "model.compile(loss='categorical_crossentropy', optimizer='adam', metrics=['accuracy'])"
   ]
  },
  {
   "cell_type": "code",
   "execution_count": 10,
   "id": "fd80170c",
   "metadata": {},
   "outputs": [
    {
     "name": "stdout",
     "output_type": "stream",
     "text": [
      "Epoch 1/10\n",
      "250/250 [==============================] - 74s 294ms/step - loss: 0.6924 - accuracy: 0.7174\n",
      "Epoch 2/10\n",
      "250/250 [==============================] - 80s 319ms/step - loss: 0.3874 - accuracy: 0.8577\n",
      "Epoch 3/10\n",
      "250/250 [==============================] - 90s 360ms/step - loss: 0.2522 - accuracy: 0.9109\n",
      "Epoch 4/10\n",
      "250/250 [==============================] - 94s 376ms/step - loss: 0.1673 - accuracy: 0.9413\n",
      "Epoch 5/10\n",
      "250/250 [==============================] - 92s 368ms/step - loss: 0.1162 - accuracy: 0.9603\n",
      "Epoch 6/10\n",
      "250/250 [==============================] - 93s 373ms/step - loss: 0.0911 - accuracy: 0.9688\n",
      "Epoch 7/10\n",
      "250/250 [==============================] - 92s 366ms/step - loss: 0.0720 - accuracy: 0.9757\n",
      "Epoch 8/10\n",
      "250/250 [==============================] - 89s 358ms/step - loss: 0.0615 - accuracy: 0.9787\n",
      "Epoch 9/10\n",
      "250/250 [==============================] - 90s 359ms/step - loss: 0.0479 - accuracy: 0.9831\n",
      "Epoch 10/10\n",
      "250/250 [==============================] - 91s 363ms/step - loss: 0.0429 - accuracy: 0.9850\n"
     ]
    },
    {
     "data": {
      "text/plain": [
       "<keras.src.callbacks.History at 0x28737a810>"
      ]
     },
     "execution_count": 10,
     "metadata": {},
     "output_type": "execute_result"
    }
   ],
   "source": [
    "# 4. 모델 훈련\n",
    "model.fit(train_data_padded, train_labels, epochs=10, batch_size=128)"
   ]
  },
  {
   "cell_type": "code",
   "execution_count": 13,
   "id": "4b5e0984",
   "metadata": {},
   "outputs": [
    {
     "name": "stdout",
     "output_type": "stream",
     "text": [
      "1500/1500 [==============================] - 39s 26ms/step\n",
      "Test Accuracy: 0.20%\n"
     ]
    }
   ],
   "source": [
    "# 모델을 사용하여 테스트 데이터의 예측값을 얻기\n",
    "predictions = model.predict(test_data_padded)\n",
    "\n",
    "# 예측값을 레이블로 변환 (가장 큰 확률 값을 가진 인덱스를 레이블로 선택)\n",
    "predicted_labels = np.argmax(predictions, axis=1)\n",
    "\n",
    "# 실제 레이블 (test_labels는 실제 레이블을 나타내는 배열이라고 가정)\n",
    "true_labels = np.argmax(test_data_padded, axis=1)\n",
    "\n",
    "# 정확도 계산\n",
    "correct_predictions = np.sum(predicted_labels == true_labels)\n",
    "total_predictions = len(true_labels)\n",
    "accuracy = correct_predictions / total_predictions\n",
    "\n",
    "print(f\"Test Accuracy: {accuracy * 100:.2f}%\")\n"
   ]
  },
  {
   "cell_type": "code",
   "execution_count": null,
   "id": "58aea15e",
   "metadata": {},
   "outputs": [],
   "source": []
  }
 ],
 "metadata": {
  "kernelspec": {
   "display_name": "Python 3 (ipykernel)",
   "language": "python",
   "name": "python3"
  },
  "language_info": {
   "codemirror_mode": {
    "name": "ipython",
    "version": 3
   },
   "file_extension": ".py",
   "mimetype": "text/x-python",
   "name": "python",
   "nbconvert_exporter": "python",
   "pygments_lexer": "ipython3",
   "version": "3.11.4"
  }
 },
 "nbformat": 4,
 "nbformat_minor": 5
}
