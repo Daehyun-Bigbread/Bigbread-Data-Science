{
 "cells": [
  {
   "cell_type": "code",
   "execution_count": 2,
   "metadata": {
    "executionInfo": {
     "elapsed": 270,
     "status": "ok",
     "timestamp": 1696915087658,
     "user": {
      "displayName": "‍황동규[재학 / 컴퓨터.전자시스템공학전공]",
      "userId": "14374219645445976415"
     },
     "user_tz": -540
    },
    "id": "gbOEaEJ0AvMI"
   },
   "outputs": [],
   "source": [
    "import pandas as pd\n",
    "import re\n",
    "import nltk\n",
    "import torch\n",
    "import seaborn as sns\n",
    "from transformers import BertTokenizer, BertForSequenceClassification, AdamW, get_linear_schedule_with_warmup\n",
    "from torch.utils.data import DataLoader, TensorDataset\n",
    "from sklearn.model_selection import train_test_split\n",
    "from sklearn.metrics import accuracy_score, classification_report\n"
   ]
  },
  {
   "cell_type": "code",
   "execution_count": 3,
   "metadata": {},
   "outputs": [
    {
     "data": {
      "text/html": [
       "<div>\n",
       "<style scoped>\n",
       "    .dataframe tbody tr th:only-of-type {\n",
       "        vertical-align: middle;\n",
       "    }\n",
       "\n",
       "    .dataframe tbody tr th {\n",
       "        vertical-align: top;\n",
       "    }\n",
       "\n",
       "    .dataframe thead th {\n",
       "        text-align: right;\n",
       "    }\n",
       "</style>\n",
       "<table border=\"1\" class=\"dataframe\">\n",
       "  <thead>\n",
       "    <tr style=\"text-align: right;\">\n",
       "      <th></th>\n",
       "      <th>id</th>\n",
       "      <th>text</th>\n",
       "      <th>sentiment</th>\n",
       "    </tr>\n",
       "  </thead>\n",
       "  <tbody>\n",
       "    <tr>\n",
       "      <th>0</th>\n",
       "      <td>TRAIN_00000</td>\n",
       "      <td>@SenWarren The problem with your massively fla...</td>\n",
       "      <td>2</td>\n",
       "    </tr>\n",
       "    <tr>\n",
       "      <th>1</th>\n",
       "      <td>TRAIN_00001</td>\n",
       "      <td>#Tweetlord is a twitter role playing game! Che...</td>\n",
       "      <td>1</td>\n",
       "    </tr>\n",
       "    <tr>\n",
       "      <th>2</th>\n",
       "      <td>TRAIN_00002</td>\n",
       "      <td>I just slammed my elbow into a fridge, I did n...</td>\n",
       "      <td>2</td>\n",
       "    </tr>\n",
       "    <tr>\n",
       "      <th>3</th>\n",
       "      <td>TRAIN_00003</td>\n",
       "      <td>_beckett Thanks so much !</td>\n",
       "      <td>1</td>\n",
       "    </tr>\n",
       "    <tr>\n",
       "      <th>4</th>\n",
       "      <td>TRAIN_00004</td>\n",
       "      <td>My gauge fell out on superman</td>\n",
       "      <td>2</td>\n",
       "    </tr>\n",
       "  </tbody>\n",
       "</table>\n",
       "</div>"
      ],
      "text/plain": [
       "            id                                               text  sentiment\n",
       "0  TRAIN_00000  @SenWarren The problem with your massively fla...          2\n",
       "1  TRAIN_00001  #Tweetlord is a twitter role playing game! Che...          1\n",
       "2  TRAIN_00002  I just slammed my elbow into a fridge, I did n...          2\n",
       "3  TRAIN_00003                          _beckett Thanks so much !          1\n",
       "4  TRAIN_00004                     My gauge fell out on superman           2"
      ]
     },
     "execution_count": 3,
     "metadata": {},
     "output_type": "execute_result"
    }
   ],
   "source": [
    "train_data = pd.read_csv('train.csv')\n",
    "train_data.head()"
   ]
  },
  {
   "cell_type": "code",
   "execution_count": 4,
   "metadata": {},
   "outputs": [
    {
     "data": {
      "text/html": [
       "<div>\n",
       "<style scoped>\n",
       "    .dataframe tbody tr th:only-of-type {\n",
       "        vertical-align: middle;\n",
       "    }\n",
       "\n",
       "    .dataframe tbody tr th {\n",
       "        vertical-align: top;\n",
       "    }\n",
       "\n",
       "    .dataframe thead th {\n",
       "        text-align: right;\n",
       "    }\n",
       "</style>\n",
       "<table border=\"1\" class=\"dataframe\">\n",
       "  <thead>\n",
       "    <tr style=\"text-align: right;\">\n",
       "      <th></th>\n",
       "      <th>id</th>\n",
       "      <th>text</th>\n",
       "    </tr>\n",
       "  </thead>\n",
       "  <tbody>\n",
       "    <tr>\n",
       "      <th>0</th>\n",
       "      <td>TEST_00000</td>\n",
       "      <td>@naima @dialogician Most of this footage is fr...</td>\n",
       "    </tr>\n",
       "    <tr>\n",
       "      <th>1</th>\n",
       "      <td>TEST_00001</td>\n",
       "      <td>@Haggis_UK @kevinhollinrake is willing to brea...</td>\n",
       "    </tr>\n",
       "    <tr>\n",
       "      <th>2</th>\n",
       "      <td>TEST_00002</td>\n",
       "      <td>‘No Magic Bullet’ for Preserving Abortion Acce...</td>\n",
       "    </tr>\n",
       "    <tr>\n",
       "      <th>3</th>\n",
       "      <td>TEST_00003</td>\n",
       "      <td>Can I also have a swirly flat white?</td>\n",
       "    </tr>\n",
       "    <tr>\n",
       "      <th>4</th>\n",
       "      <td>TEST_00004</td>\n",
       "      <td>Question: If the trains we have get disabled i...</td>\n",
       "    </tr>\n",
       "  </tbody>\n",
       "</table>\n",
       "</div>"
      ],
      "text/plain": [
       "           id                                               text\n",
       "0  TEST_00000  @naima @dialogician Most of this footage is fr...\n",
       "1  TEST_00001  @Haggis_UK @kevinhollinrake is willing to brea...\n",
       "2  TEST_00002  ‘No Magic Bullet’ for Preserving Abortion Acce...\n",
       "3  TEST_00003               Can I also have a swirly flat white?\n",
       "4  TEST_00004  Question: If the trains we have get disabled i..."
      ]
     },
     "execution_count": 4,
     "metadata": {},
     "output_type": "execute_result"
    }
   ],
   "source": [
    "test_data = pd.read_csv('test.csv')\n",
    "test_data.head()"
   ]
  },
  {
   "cell_type": "code",
   "execution_count": 5,
   "metadata": {},
   "outputs": [
    {
     "name": "stdout",
     "output_type": "stream",
     "text": [
      "32000\n",
      "48000\n"
     ]
    }
   ],
   "source": [
    "print(len(train_data))\n",
    "print(len(test_data))"
   ]
  },
  {
   "cell_type": "code",
   "execution_count": 6,
   "metadata": {},
   "outputs": [
    {
     "data": {
      "text/plain": [
       "Text(0, 0.5, 'sentiment')"
      ]
     },
     "execution_count": 6,
     "metadata": {},
     "output_type": "execute_result"
    },
    {
     "data": {
      "image/png": "[encoded data removed]",
      "text/plain": [
       "<Figure size 640x480 with 1 Axes>"
      ]
     },
     "metadata": {},
     "output_type": "display_data"
    }
   ],
   "source": [
    "import matplotlib.pyplot as plt\n",
    "plt.style.use('ggplot')\n",
    "# 데이터프레임의 'sentiment' 컬럼의 값 분포를 카운트합니다.\n",
    "x = train_data.sentiment.value_counts()\n",
    "# x.index는 유니크한 'sentiment' 값들이고, x.values는 각 값의 빈도수입니다.\n",
    "sns.barplot(x=x.index, y=x.values)\n",
    "plt.gca().set_ylabel('sentiment')"
   ]
  },
  {
   "cell_type": "code",
   "execution_count": 7,
   "metadata": {},
   "outputs": [
    {
     "data": {
      "image/png": "[encoded data removed]",
      "text/plain": [
       "<Figure size 1000x500 with 3 Axes>"
      ]
     },
     "metadata": {},
     "output_type": "display_data"
    }
   ],
   "source": [
    "# Exploratory Data Analysis of tweets\n",
    "# sentiment 데이터프레임을 사용하여 텍스트 길이를 비교하기 위한 탐색적 데이터 분석(Exploratory Data Analysis, EDA)\n",
    "# 0-Netural, 1-Positive, 2-Negative\n",
    "\n",
    "fig, (ax1, ax2, ax3) = plt.subplots(1, 3, figsize=(10,5))\n",
    "\n",
    "train_data_len = train_data[train_data['sentiment']==0]['text'].str.len()\n",
    "ax1.hist(train_data_len, color='gray')\n",
    "ax1.set_title('Netural tweets')\n",
    "\n",
    "train_data_len = train_data[train_data['sentiment']==1]['text'].str.len()\n",
    "ax2.hist(train_data_len, color='green')\n",
    "ax2.set_title('Positive tweets')\n",
    "\n",
    "train_data_len = train_data[train_data['sentiment']==2]['text'].str.len()\n",
    "ax3.hist(train_data_len, color='red')\n",
    "ax3.set_title('Negative tweets')\n",
    "\n",
    "fig.suptitle('Emotion in tweets')\n",
    "plt.show()"
   ]
  },
  {
   "cell_type": "code",
   "execution_count": 8,
   "metadata": {},
   "outputs": [
    {
     "data": {
      "image/png": "[encoded data removed]",
      "text/plain": [
       "<Figure size 1000x500 with 3 Axes>"
      ]
     },
     "metadata": {},
     "output_type": "display_data"
    }
   ],
   "source": [
    "# Number of words in a tweet¶\n",
    "# sentiment 데이터프레임을 사용하여 트윗당 단어의 수를 비교하기 위한 탐색적 데이터 분석(Exploratory Data Analysis, EDA)\n",
    "# 0-Netural, 1-Positive, 2-Negative\n",
    "\n",
    "fig, (ax1, ax2, ax3) = plt.subplots(1, 3, figsize=(10,5))\n",
    "\n",
    "train_data_len=train_data[train_data['sentiment']==0]['text'].str.split().map(lambda x: len(x))\n",
    "ax1.hist(train_data_len, color='gray')\n",
    "ax1.set_title('Netural tweets')\n",
    "\n",
    "train_data_len=train_data[train_data['sentiment']==1]['text'].str.split().map(lambda x: len(x))\n",
    "ax2.hist(train_data_len, color='green')\n",
    "ax2.set_title('Positive tweets')\n",
    "\n",
    "train_data_len=train_data[train_data['sentiment']==2]['text'].str.split().map(lambda x: len(x))\n",
    "ax3.hist(train_data_len, color='red')\n",
    "ax3.set_title('Negative tweets')\n",
    "\n",
    "fig.suptitle('Emotion Words in a tweet')\n",
    "plt.show()\n"
   ]
  },
  {
   "cell_type": "code",
   "execution_count": 9,
   "metadata": {},
   "outputs": [
    {
     "name": "stderr",
     "output_type": "stream",
     "text": [
      "/var/folders/3_/x71n0dfx597b2bmnkl6m82hm0000gn/T/ipykernel_16483/398297835.py:9: UserWarning: \n",
      "\n",
      "`distplot` is a deprecated function and will be removed in seaborn v0.14.0.\n",
      "\n",
      "Please adapt your code to use either `displot` (a figure-level function with\n",
      "similar flexibility) or `histplot` (an axes-level function for histograms).\n",
      "\n",
      "For a guide to updating your code to use the new functions, please see\n",
      "https://gist.github.com/mwaskom/de44147ed2974457ad6372750bbe5751\n",
      "\n",
      "  sns.distplot(word.map(lambda x: np.mean(x)),ax=ax1,color='gray')\n",
      "/var/folders/3_/x71n0dfx597b2bmnkl6m82hm0000gn/T/ipykernel_16483/398297835.py:13: UserWarning: \n",
      "\n",
      "`distplot` is a deprecated function and will be removed in seaborn v0.14.0.\n",
      "\n",
      "Please adapt your code to use either `displot` (a figure-level function with\n",
      "similar flexibility) or `histplot` (an axes-level function for histograms).\n",
      "\n",
      "For a guide to updating your code to use the new functions, please see\n",
      "https://gist.github.com/mwaskom/de44147ed2974457ad6372750bbe5751\n",
      "\n",
      "  sns.distplot(word.map(lambda x: np.mean(x)),ax=ax2,color='green')\n",
      "/var/folders/3_/x71n0dfx597b2bmnkl6m82hm0000gn/T/ipykernel_16483/398297835.py:17: UserWarning: \n",
      "\n",
      "`distplot` is a deprecated function and will be removed in seaborn v0.14.0.\n",
      "\n",
      "Please adapt your code to use either `displot` (a figure-level function with\n",
      "similar flexibility) or `histplot` (an axes-level function for histograms).\n",
      "\n",
      "For a guide to updating your code to use the new functions, please see\n",
      "https://gist.github.com/mwaskom/de44147ed2974457ad6372750bbe5751\n",
      "\n",
      "  sns.distplot(word.map(lambda x: np.mean(x)),ax=ax3,color='red')\n"
     ]
    },
    {
     "data": {
      "text/plain": [
       "Text(0.5, 0.98, 'Average word length in each tweet')"
      ]
     },
     "execution_count": 9,
     "metadata": {},
     "output_type": "execute_result"
    },
    {
     "data": {
      "image/png": "[encoded data removed]",
      "text/plain": [
       "<Figure size 1000x500 with 3 Axes>"
      ]
     },
     "metadata": {},
     "output_type": "display_data"
    }
   ],
   "source": [
    "import numpy as np\n",
    "# Average word length in a tweet\n",
    "#  sentiment 데이터프레임을 사용하여 간에 트윗당 평균 단어 길이를 비교하기 위한\n",
    "# 탐색적 데이터 분석(Exploratory Data Analysis, EDA)을 수행\n",
    "\n",
    "fig, (ax1, ax2, ax3) = plt.subplots(1, 3, figsize=(10,5))\n",
    "\n",
    "word=train_data[train_data['sentiment']==0]['text'].str.split().apply(lambda x : [len(i) for i in x])\n",
    "sns.distplot(word.map(lambda x: np.mean(x)),ax=ax1,color='gray')\n",
    "ax1.set_title('Netural')\n",
    "\n",
    "word=train_data[train_data['sentiment']==1]['text'].str.split().apply(lambda x : [len(i) for i in x])\n",
    "sns.distplot(word.map(lambda x: np.mean(x)),ax=ax2,color='green')\n",
    "ax2.set_title('Positive')\n",
    "\n",
    "word=train_data[train_data['sentiment']==2]['text'].str.split().apply(lambda x : [len(i) for i in x])\n",
    "sns.distplot(word.map(lambda x: np.mean(x)),ax=ax3,color='red')\n",
    "ax3.set_title('Negative')\n",
    "\n",
    "fig.suptitle('Average word length in each tweet')"
   ]
  },
  {
   "cell_type": "code",
   "execution_count": 10,
   "metadata": {},
   "outputs": [],
   "source": [
    "# tweet 데이터프레임의 target 값에 따른 모든 단어들의 목록(또는 corpus)을 생성\n",
    "def create_corpus(sentiment):\n",
    "    corpus=[]\n",
    "    \n",
    "    for x in train_data[train_data['sentiment']==sentiment]['text'].str.split():\n",
    "        for i in x:\n",
    "            corpus.append(i)\n",
    "    return corpus"
   ]
  },
  {
   "cell_type": "code",
   "execution_count": 11,
   "metadata": {},
   "outputs": [
    {
     "name": "stderr",
     "output_type": "stream",
     "text": [
      "[nltk_data] Downloading package stopwords to\n",
      "[nltk_data]     /Users/daehyunkim/nltk_data...\n",
      "[nltk_data]   Package stopwords is already up-to-date!\n"
     ]
    }
   ],
   "source": [
    "import nltk\n",
    "from nltk.corpus import stopwords\n",
    "nltk.download('stopwords')\n",
    "\n",
    "stop = set(stopwords.words('english'))"
   ]
  },
  {
   "cell_type": "code",
   "execution_count": 12,
   "metadata": {},
   "outputs": [],
   "source": [
    "from collections import defaultdict\n",
    "\n",
    "# Common stopwords in tweets\n",
    "# tweet 데이터프레임에서 sentiment 값이 0인 트윗들의 텍스트에서\n",
    "# 가장 흔하게 등장하는 불용어(stopwords)를 찾는 역할\n",
    "\n",
    "corpus=create_corpus(0)\n",
    "\n",
    "dic=defaultdict(int)\n",
    "for word in corpus:\n",
    "    if word in stop:\n",
    "        dic[word]+=1\n",
    "        \n",
    "top=sorted(dic.items(), key=lambda x:x[1],reverse=True)[:10] "
   ]
  },
  {
   "cell_type": "code",
   "execution_count": 13,
   "metadata": {},
   "outputs": [
    {
     "data": {
      "text/plain": [
       "<BarContainer object of 10 artists>"
      ]
     },
     "execution_count": 13,
     "metadata": {},
     "output_type": "execute_result"
    },
    {
     "data": {
      "image/png": "[encoded data removed]",
      "text/plain": [
       "<Figure size 640x480 with 1 Axes>"
      ]
     },
     "metadata": {},
     "output_type": "display_data"
    }
   ],
   "source": [
    "x,y=zip(*top)\n",
    "plt.bar(x,y, color='gray')"
   ]
  },
  {
   "cell_type": "code",
   "execution_count": 14,
   "metadata": {},
   "outputs": [
    {
     "data": {
      "text/plain": [
       "<BarContainer object of 10 artists>"
      ]
     },
     "execution_count": 14,
     "metadata": {},
     "output_type": "execute_result"
    },
    {
     "data": {
      "image/png": "[encoded data removed]",
      "text/plain": [
       "<Figure size 640x480 with 1 Axes>"
      ]
     },
     "metadata": {},
     "output_type": "display_data"
    }
   ],
   "source": [
    "# tweet 데이터프레임에서 sentiment 값이 1인 트윗들의\n",
    "# 텍스트에서 가장 흔하게 등장하는 불용어(stopwords)를 찾고, 그것을 바 차트로 시각화하는 역할\n",
    "corpus=create_corpus(1)\n",
    "\n",
    "dic=defaultdict(int)\n",
    "for word in corpus:\n",
    "    if word in stop:\n",
    "        dic[word]+=1\n",
    "\n",
    "top=sorted(dic.items(), key=lambda x:x[1],reverse=True)[:10] \n",
    "\n",
    "x,y=zip(*top)\n",
    "plt.bar(x,y, color='green')"
   ]
  },
  {
   "cell_type": "code",
   "execution_count": 15,
   "metadata": {},
   "outputs": [
    {
     "data": {
      "text/plain": [
       "<BarContainer object of 10 artists>"
      ]
     },
     "execution_count": 15,
     "metadata": {},
     "output_type": "execute_result"
    },
    {
     "data": {
      "image/png": "[encoded data removed]",
      "text/plain": [
       "<Figure size 640x480 with 1 Axes>"
      ]
     },
     "metadata": {},
     "output_type": "display_data"
    }
   ],
   "source": [
    "# tweet 데이터프레임에서 sentiment 값이 2인 트윗들의\n",
    "# 텍스트에서 가장 흔하게 등장하는 불용어(stopwords)를 찾고, 그것을 바 차트로 시각화하는 역할\n",
    "corpus=create_corpus(2)\n",
    "\n",
    "dic=defaultdict(int)\n",
    "for word in corpus:\n",
    "    if word in stop:\n",
    "        dic[word]+=1\n",
    "\n",
    "top=sorted(dic.items(), key=lambda x:x[1],reverse=True)[:10] \n",
    "\n",
    "x,y=zip(*top)\n",
    "plt.bar(x,y, color='red')"
   ]
  },
  {
   "cell_type": "code",
   "execution_count": 16,
   "metadata": {},
   "outputs": [
    {
     "data": {
      "text/plain": [
       "<BarContainer object of 24 artists>"
      ]
     },
     "execution_count": 16,
     "metadata": {},
     "output_type": "execute_result"
    },
    {
     "data": {
      "image/png": "[encoded data removed]",
      "text/plain": [
       "<Figure size 1000x500 with 1 Axes>"
      ]
     },
     "metadata": {},
     "output_type": "display_data"
    }
   ],
   "source": [
    "# Analyzing punctuations.\n",
    "# sentiment 데이터프레임에서 target 값이 0인 트윗들의 텍스트에서\n",
    "# 특수문자(구두점)의 등장 빈도를 분석하고, 그 결과를 바 차트로 시각화\n",
    "plt.figure(figsize=(10,5))\n",
    "corpus=create_corpus(0)\n",
    "\n",
    "dic=defaultdict(int)\n",
    "import string\n",
    "special = string.punctuation\n",
    "for i in (corpus):\n",
    "    if i in special:\n",
    "        dic[i]+=1\n",
    "        \n",
    "x,y=zip(*dic.items())\n",
    "plt.bar(x,y, color='gray')"
   ]
  },
  {
   "cell_type": "code",
   "execution_count": 17,
   "metadata": {},
   "outputs": [
    {
     "data": {
      "text/plain": [
       "<BarContainer object of 23 artists>"
      ]
     },
     "execution_count": 17,
     "metadata": {},
     "output_type": "execute_result"
    },
    {
     "data": {
      "image/png": "[encoded data removed]",
      "text/plain": [
       "<Figure size 1000x500 with 1 Axes>"
      ]
     },
     "metadata": {},
     "output_type": "display_data"
    }
   ],
   "source": [
    "# Analyzing punctuations.\n",
    "# sentiment 데이터프레임에서 target 값이 1인 트윗들의 텍스트에서\n",
    "# 특수문자(구두점)의 등장 빈도를 분석하고, 그 결과를 바 차트로 시각화\n",
    "plt.figure(figsize=(10,5))\n",
    "corpus=create_corpus(1)\n",
    "\n",
    "dic=defaultdict(int)\n",
    "import string\n",
    "special = string.punctuation\n",
    "for i in (corpus):\n",
    "    if i in special:\n",
    "        dic[i]+=1\n",
    "        \n",
    "x,y=zip(*dic.items())\n",
    "plt.bar(x,y, color='green')"
   ]
  },
  {
   "cell_type": "code",
   "execution_count": 18,
   "metadata": {},
   "outputs": [
    {
     "data": {
      "text/plain": [
       "<BarContainer object of 27 artists>"
      ]
     },
     "execution_count": 18,
     "metadata": {},
     "output_type": "execute_result"
    },
    {
     "data": {
      "image/png": "[encoded data removed]",
      "text/plain": [
       "<Figure size 1000x500 with 1 Axes>"
      ]
     },
     "metadata": {},
     "output_type": "display_data"
    }
   ],
   "source": [
    "# Analyzing punctuations.\n",
    "# sentiment 데이터프레임에서 target 값이 2인 트윗들의 텍스트에서\n",
    "# 특수문자(구두점)의 등장 빈도를 분석하고, 그 결과를 바 차트로 시각화\n",
    "plt.figure(figsize=(10,5))\n",
    "corpus=create_corpus(2)\n",
    "\n",
    "dic=defaultdict(int)\n",
    "import string\n",
    "special = string.punctuation\n",
    "for i in (corpus):\n",
    "    if i in special:\n",
    "        dic[i]+=1\n",
    "        \n",
    "x,y=zip(*dic.items())\n",
    "plt.bar(x,y, color='red')"
   ]
  },
  {
   "cell_type": "code",
   "execution_count": 19,
   "metadata": {},
   "outputs": [],
   "source": [
    "from collections import Counter\n",
    "\n",
    "# tweet 데이터프레임에서 target 값이 0인 트윗들의\n",
    "# 텍스트에서 가장 흔하게 등장하는 단어들을 찾는 역할. 불용어(stopwords)는 제외\n",
    "# common words\n",
    "counter=Counter(corpus)\n",
    "most=counter.most_common()\n",
    "x=[]\n",
    "y=[]\n",
    "for word,count in most[:40]:\n",
    "    if (word not in stop) :\n",
    "        x.append(word)\n",
    "        y.append(count)"
   ]
  },
  {
   "cell_type": "code",
   "execution_count": 20,
   "metadata": {},
   "outputs": [
    {
     "data": {
      "text/plain": [
       "<Axes: >"
      ]
     },
     "execution_count": 20,
     "metadata": {},
     "output_type": "execute_result"
    },
    {
     "data": {
      "image/png": "[encoded data removed]",
      "text/plain": [
       "<Figure size 640x480 with 1 Axes>"
      ]
     },
     "metadata": {},
     "output_type": "display_data"
    }
   ],
   "source": [
    "sns.barplot(x=y,y=x)"
   ]
  },
  {
   "cell_type": "code",
   "execution_count": 21,
   "metadata": {},
   "outputs": [],
   "source": [
    "# 주어진 텍스트(corpus)의 바이그램(bigrams, 연속된 두 단어의 조합) 분석을 수행하고,\n",
    "# 가장 빈번하게 등장하는 바이그램을 반환\n",
    "# Ngram analysis\n",
    "def get_top_bigrams(corpus, n=None):\n",
    "    vec = CountVectorizer(ngram_range=(2, 2)).fit(corpus)\n",
    "    bag_of_words = vec.transform(corpus)\n",
    "    sum_words = bag_of_words.sum(axis=0) \n",
    "    words_freq = [(word, sum_words[0, idx]) for word, idx in vec.vocabulary_.items()]\n",
    "    words_freq =sorted(words_freq, key = lambda x: x[1], reverse=True)\n",
    "    return words_freq[:n]"
   ]
  },
  {
   "cell_type": "code",
   "execution_count": 22,
   "metadata": {},
   "outputs": [
    {
     "data": {
      "text/plain": [
       "<Axes: >"
      ]
     },
     "execution_count": 22,
     "metadata": {},
     "output_type": "execute_result"
    },
    {
     "data": {
      "image/png": "[encoded data removed]",
      "text/plain": [
       "<Figure size 1000x500 with 1 Axes>"
      ]
     },
     "metadata": {},
     "output_type": "display_data"
    }
   ],
   "source": [
    "from sklearn.feature_extraction.text import CountVectorizer\n",
    "\n",
    "plt.figure(figsize=(10,5))\n",
    "top_bigrams=get_top_bigrams(train_data['text'])[:10]\n",
    "x,y=map(list,zip(*top_bigrams))\n",
    "sns.barplot(x=y,y=x)"
   ]
  },
  {
   "cell_type": "code",
   "execution_count": 25,
   "metadata": {},
   "outputs": [
    {
     "data": {
      "text/plain": [
       "(80000, 3)"
      ]
     },
     "execution_count": 25,
     "metadata": {},
     "output_type": "execute_result"
    }
   ],
   "source": [
    "# Data Cleaning\n",
    "# train 데이터프레임과 test 데이터프레임을 수직으로 결합 후 하나의 데이터프레임 df를 생성\n",
    "# 그 결과 데이터프레임의 형태(shape)를 출력\n",
    "df=pd.concat([train_data,test_data])\n",
    "df.shape"
   ]
  },
  {
   "cell_type": "markdown",
   "metadata": {},
   "source": [
    "### 전처리"
   ]
  },
  {
   "cell_type": "code",
   "execution_count": 26,
   "metadata": {},
   "outputs": [],
   "source": [
    "# Removing urls\n",
    "example=\"New competition launched :https://www.kaggle.com/c/nlp-getting-started\""
   ]
  },
  {
   "cell_type": "code",
   "execution_count": 27,
   "metadata": {},
   "outputs": [
    {
     "data": {
      "text/plain": [
       "'New competition launched :'"
      ]
     },
     "execution_count": 27,
     "metadata": {},
     "output_type": "execute_result"
    }
   ],
   "source": [
    "# URL Tag 제거\n",
    "def remove_URL(text):\n",
    "    url = re.compile(r'https?://\\S+|www\\.\\S+')\n",
    "    return url.sub(r'',text)\n",
    "\n",
    "remove_URL(example)"
   ]
  },
  {
   "cell_type": "code",
   "execution_count": 28,
   "metadata": {},
   "outputs": [],
   "source": [
    "df['text']=df['text'].apply(lambda x : remove_URL(x))"
   ]
  },
  {
   "cell_type": "code",
   "execution_count": 29,
   "metadata": {},
   "outputs": [],
   "source": [
    "# Removing HTML tags\n",
    "example = \"\"\"<div>\n",
    "<h1>Real or Fake</h1>\n",
    "<p>Kaggle </p>\n",
    "<a href=\"https://www.kaggle.com/c/nlp-getting-started\">getting started</a>\n",
    "</div>\"\"\""
   ]
  },
  {
   "cell_type": "code",
   "execution_count": 30,
   "metadata": {},
   "outputs": [
    {
     "name": "stdout",
     "output_type": "stream",
     "text": [
      "\n",
      "Real or Fake\n",
      "Kaggle \n",
      "getting started\n",
      "\n"
     ]
    }
   ],
   "source": [
    "def remove_html(text):\n",
    "    html=re.compile(r'<.*?>')\n",
    "    return html.sub(r'',text)\n",
    "print(remove_html(example))"
   ]
  },
  {
   "cell_type": "code",
   "execution_count": 31,
   "metadata": {},
   "outputs": [],
   "source": [
    "df['text']=df['text'].apply(lambda x : remove_html(x))"
   ]
  },
  {
   "cell_type": "code",
   "execution_count": 32,
   "metadata": {},
   "outputs": [
    {
     "data": {
      "text/plain": [
       "'Omg another Earthquake '"
      ]
     },
     "execution_count": 32,
     "metadata": {},
     "output_type": "execute_result"
    }
   ],
   "source": [
    "# Romoving Emojis\n",
    "# Reference : https://gist.github.com/slowkow/7a7f61f495e3dbb7e3d767f97bd7304b\n",
    "def remove_emoji(text):\n",
    "    emoji_pattern = re.compile(\"[\"\n",
    "                           u\"\\U0001F600-\\U0001F64F\"  # emoticons\n",
    "                           u\"\\U0001F300-\\U0001F5FF\"  # symbols & pictographs\n",
    "                           u\"\\U0001F680-\\U0001F6FF\"  # transport & map symbols\n",
    "                           u\"\\U0001F1E0-\\U0001F1FF\"  # flags (iOS)\n",
    "                           u\"\\U00002702-\\U000027B0\"\n",
    "                           u\"\\U000024C2-\\U0001F251\"\n",
    "                           \"]+\", flags=re.UNICODE)\n",
    "    return emoji_pattern.sub(r'', text)\n",
    "\n",
    "remove_emoji(\"Omg another Earthquake 😔😔\")"
   ]
  },
  {
   "cell_type": "code",
   "execution_count": 33,
   "metadata": {},
   "outputs": [],
   "source": [
    "df['text']=df['text'].apply(lambda x: remove_emoji(x))"
   ]
  },
  {
   "cell_type": "code",
   "execution_count": 49,
   "metadata": {},
   "outputs": [
    {
     "name": "stdout",
     "output_type": "stream",
     "text": [
      "I am a king\n"
     ]
    }
   ],
   "source": [
    "# Removing punctuations, 주어진 구두점 제거\n",
    "def remove_punct(text):\n",
    "    table=str.maketrans('','',string.punctuation)\n",
    "    return text.translate(table)\n",
    "\n",
    "example=\"#I am a #king\"\n",
    "print(remove_punct(example))"
   ]
  },
  {
   "cell_type": "code",
   "execution_count": 35,
   "metadata": {},
   "outputs": [],
   "source": [
    "df['text']=df['text'].apply(lambda x : remove_punct(x))"
   ]
  },
  {
   "cell_type": "code",
   "execution_count": 36,
   "metadata": {},
   "outputs": [
    {
     "name": "stdout",
     "output_type": "stream",
     "text": [
      "bigbread bigbread\n"
     ]
    }
   ],
   "source": [
    "# Removing @, 주어진 @ 제거\n",
    "def remove_commercial_at(text):\n",
    "    table=str.maketrans('','',string.punctuation)\n",
    "    return text.translate(table)\n",
    "\n",
    "example=\"@bigbread, @bigbread\"\n",
    "print(remove_commercial_at(example))"
   ]
  },
  {
   "cell_type": "code",
   "execution_count": 37,
   "metadata": {},
   "outputs": [],
   "source": [
    "df['text']=df['text'].apply(lambda x : remove_commercial_at(x))"
   ]
  },
  {
   "cell_type": "markdown",
   "metadata": {},
   "source": [
    "### 텍스트 철자 오류 수정"
   ]
  },
  {
   "cell_type": "code",
   "execution_count": 38,
   "metadata": {},
   "outputs": [
    {
     "name": "stdout",
     "output_type": "stream",
     "text": [
      "Requirement already satisfied: pyspellchecker in /Users/daehyunkim/anaconda3/lib/python3.11/site-packages (0.7.2)\n",
      "Note: you may need to restart the kernel to use updated packages.\n"
     ]
    }
   ],
   "source": [
    "pip install pyspellchecker"
   ]
  },
  {
   "cell_type": "code",
   "execution_count": 39,
   "metadata": {},
   "outputs": [
    {
     "data": {
      "text/plain": [
       "'correct me plese'"
      ]
     },
     "execution_count": 39,
     "metadata": {},
     "output_type": "execute_result"
    }
   ],
   "source": [
    "# 텍스트의 철자 오류를 수정하는 함수\n",
    "from spellchecker import SpellChecker\n",
    "\n",
    "spell = SpellChecker()\n",
    "def correct_spellings(text):\n",
    "    corrected_text = []\n",
    "    misspelled_words = spell.unknown(text.split())\n",
    "    for word in text.split():\n",
    "        if word in misspelled_words:\n",
    "            corrected_text.append(spell.correction(word))\n",
    "        else:\n",
    "            corrected_text.append(word)\n",
    "    return \" \".join(corrected_text)\n",
    "        \n",
    "text = \"corect me plese\"\n",
    "correct_spellings(text)"
   ]
  },
  {
   "cell_type": "code",
   "execution_count": 56,
   "metadata": {},
   "outputs": [],
   "source": [
    "from tqdm import tqdm\n",
    "from nltk.tokenize import word_tokenize\n",
    "\n",
    "# GloVe for Vectorization\n",
    "# 전처리 하여 corpus(단어의 집합)을 생성\n",
    "\n",
    "def create_corpus(df):\n",
    "    corpus=[]\n",
    "    for tweet in tqdm(df['text']):\n",
    "        words=[word.lower() for word in word_tokenize(tweet) if((word.isalpha()==1) & (word not in stop))]\n",
    "        corpus.append(words)\n",
    "    return corpus"
   ]
  },
  {
   "cell_type": "code",
   "execution_count": 57,
   "metadata": {},
   "outputs": [
    {
     "name": "stderr",
     "output_type": "stream",
     "text": [
      "100%|██████████████████████████████████| 80000/80000 [00:03<00:00, 23482.59it/s]\n"
     ]
    }
   ],
   "source": [
    "corpus=create_corpus(df)"
   ]
  },
  {
   "cell_type": "code",
   "execution_count": 58,
   "metadata": {},
   "outputs": [],
   "source": [
    "# GloVe (Global Vectors for Word Representation)의 사전 훈련된 단어 벡터를 로드\n",
    "\n",
    "embedding_dict={}\n",
    "with open('glove.6B.200d.txt','r') as f:\n",
    "    for line in f:\n",
    "        values=line.split()\n",
    "        word=values[0]\n",
    "        vectors=np.asarray(values[1:],'float32')\n",
    "        embedding_dict[word]=vectors\n",
    "f.close()"
   ]
  },
  {
   "cell_type": "code",
   "execution_count": 59,
   "metadata": {},
   "outputs": [],
   "source": [
    "from keras.preprocessing.text import Tokenizer\n",
    "from keras.preprocessing.sequence import pad_sequences\n",
    "\n",
    "# corpus를 토큰화하고 각 텍스트를 고정 길이의 숫자 시퀀스로 변환\n",
    "\n",
    "MAX_LEN=50\n",
    "tokenizer_obj=Tokenizer()\n",
    "tokenizer_obj.fit_on_texts(corpus)\n",
    "sequences=tokenizer_obj.texts_to_sequences(corpus)\n",
    "\n",
    "train_pad=pad_sequences(sequences,maxlen=MAX_LEN,truncating='post',padding='post')"
   ]
  },
  {
   "cell_type": "code",
   "execution_count": 60,
   "metadata": {},
   "outputs": [
    {
     "name": "stdout",
     "output_type": "stream",
     "text": [
      "Number of unique words: 101887\n"
     ]
    }
   ],
   "source": [
    "word_index=tokenizer_obj.word_index\n",
    "print('Number of unique words:',len(word_index))"
   ]
  },
  {
   "cell_type": "code",
   "execution_count": 63,
   "metadata": {},
   "outputs": [
    {
     "name": "stderr",
     "output_type": "stream",
     "text": [
      "100%|███████████████████████████████| 101887/101887 [00:00<00:00, 892470.15it/s]\n"
     ]
    }
   ],
   "source": [
    "# Keras Tokenizer로부터 얻은 단어 인덱스(word_index)와 GloVe의 사전 훈련된 임베딩(embedding_dict)\n",
    "# 사용하여 각 단어에 대한 임베딩 행렬(embedding_matrix)을 구성\n",
    "\n",
    "num_words=len(word_index)+1\n",
    "embedding_matrix=np.zeros((num_words,200))\n",
    "\n",
    "for word,i in tqdm(word_index.items()):\n",
    "    if i > num_words:\n",
    "        continue\n",
    "    \n",
    "    emb_vec=embedding_dict.get(word)\n",
    "    if emb_vec is not None:\n",
    "        embedding_matrix[i]=emb_vec"
   ]
  },
  {
   "cell_type": "code",
   "execution_count": 64,
   "metadata": {},
   "outputs": [],
   "source": [
    "train=train_data[:train_data.shape[0]]\n",
    "test=train_data[train_data.shape[0]:]"
   ]
  },
  {
   "cell_type": "code",
   "execution_count": 65,
   "metadata": {},
   "outputs": [
    {
     "name": "stdout",
     "output_type": "stream",
     "text": [
      "Shape of train (27200, 3)\n",
      "Shape of test (4800, 3)\n"
     ]
    }
   ],
   "source": [
    "# 데이터셋 분할 & 학습\n",
    "X_train,X_test,Y_train,Y_test=train_test_split(train,train_data['sentiment'].values,test_size=0.15)\n",
    "print('Shape of train',X_train.shape)\n",
    "print(\"Shape of test\",X_test.shape)"
   ]
  },
  {
   "cell_type": "code",
   "execution_count": 66,
   "metadata": {},
   "outputs": [
    {
     "name": "stdout",
     "output_type": "stream",
     "text": [
      "                id                                               text  \\\n",
      "0      TRAIN_00000  @SenWarren The problem with your massively fla...   \n",
      "1      TRAIN_00001  #Tweetlord is a twitter role playing game! Che...   \n",
      "2      TRAIN_00002  I just slammed my elbow into a fridge, I did n...   \n",
      "3      TRAIN_00003                          _beckett Thanks so much !   \n",
      "4      TRAIN_00004                     My gauge fell out on superman    \n",
      "...            ...                                                ...   \n",
      "31995  TRAIN_31995  Its a grey day over Manchester  i would like t...   \n",
      "31996  TRAIN_31996  Got laidoff tonight. Very unhappy.  time for bed.   \n",
      "31997  TRAIN_31997  @MonicaLewinsky Wonderful Monica. Chef’s kiss ...   \n",
      "31998  TRAIN_31998  #AR #business card\\n#VR #MixedReality #IoT #in...   \n",
      "31999  TRAIN_31999  @Luscious_Dream (When you move your wrist, my ...   \n",
      "\n",
      "       sentiment  \n",
      "0              2  \n",
      "1              1  \n",
      "2              2  \n",
      "3              1  \n",
      "4              2  \n",
      "...          ...  \n",
      "31995          2  \n",
      "31996          2  \n",
      "31997          1  \n",
      "31998          1  \n",
      "31999          1  \n",
      "\n",
      "[32000 rows x 3 columns]\n"
     ]
    }
   ],
   "source": [
    "print(train)"
   ]
  },
  {
   "cell_type": "code",
   "execution_count": 67,
   "metadata": {
    "executionInfo": {
     "elapsed": 39013,
     "status": "ok",
     "timestamp": 1696915162927,
     "user": {
      "displayName": "‍황동규[재학 / 컴퓨터.전자시스템공학전공]",
      "userId": "14374219645445976415"
     },
     "user_tz": -540
    },
    "id": "rUiUicEWA1xC"
   },
   "outputs": [],
   "source": [
    "# BERT 토크나이저 및 인코딩\n",
    "tokenizer = BertTokenizer.from_pretrained('bert-base-uncased', do_lower_case=True)\n",
    "\n",
    "# 입력 데이터를 BERT 모델에 맞게 변환\n",
    "X_train = tokenizer(train_data['text'].tolist(), padding=True, truncation=True, return_tensors='pt', max_length=128)\n",
    "Y_train = tokenizer(test_data['text'].tolist(), padding=True, truncation=True, return_tensors='pt', max_length=128)\n",
    "\n",
    "# 레이블 데이터\n",
    "train_labels = torch.tensor(train_data['sentiment'].values)\n"
   ]
  },
  {
   "cell_type": "code",
   "execution_count": 68,
   "metadata": {
    "executionInfo": {
     "elapsed": 448,
     "status": "ok",
     "timestamp": 1696915166326,
     "user": {
      "displayName": "‍황동규[재학 / 컴퓨터.전자시스템공학전공]",
      "userId": "14374219645445976415"
     },
     "user_tz": -540
    },
    "id": "RNv_bAJTA5t_"
   },
   "outputs": [],
   "source": [
    "# 데이터셋 생성\n",
    "train_dataset = TensorDataset(X_train['input_ids'], X_train['attention_mask'], X_train['token_type_ids'], train_labels)\n",
    "\n",
    "# DataLoader 설정\n",
    "batch_size = 32\n",
    "train_dataloader = DataLoader(train_dataset, batch_size=batch_size, shuffle=True)\n"
   ]
  },
  {
   "cell_type": "code",
   "execution_count": 69,
   "metadata": {
    "colab": {
     "base_uri": "https://localhost:8080/",
     "height": 140,
     "referenced_widgets": [
      "b1422048965b4196aca9c736f44faec3",
      "e774d1b4e46947e8acafa037b1372f25",
      "ce427e8a878446ea95a1d2c07b37c8ad",
      "22b8390bad6f4324901339c07b73eba5",
      "b8307a3936af42b283d6dfa86d47d03b",
      "33aeac6a2bc1404d9dc0739b9ac0b42a",
      "2106bfc047cb4208ab4eaee55b45d4e9",
      "85688076cf2f4be0a997af48661cd286",
      "f1cb4305d6e440acaf98d3004454c115",
      "97d7310cdee94252bacf43279756738e",
      "29d38e9d16a2450f8608ecc7259298f9"
     ]
    },
    "executionInfo": {
     "elapsed": 10113,
     "status": "ok",
     "timestamp": 1696915264040,
     "user": {
      "displayName": "‍황동규[재학 / 컴퓨터.전자시스템공학전공]",
      "userId": "14374219645445976415"
     },
     "user_tz": -540
    },
    "id": "LOHI4FFuBNLh",
    "outputId": "1bb31bc5-10a9-4327-8000-043f919e3c7b"
   },
   "outputs": [
    {
     "name": "stderr",
     "output_type": "stream",
     "text": [
      "Some weights of the model checkpoint at bert-base-uncased were not used when initializing BertForSequenceClassification: ['cls.predictions.bias', 'cls.seq_relationship.bias', 'cls.predictions.transform.dense.weight', 'cls.predictions.decoder.weight', 'cls.seq_relationship.weight', 'cls.predictions.transform.dense.bias', 'cls.predictions.transform.LayerNorm.bias', 'cls.predictions.transform.LayerNorm.weight']\n",
      "- This IS expected if you are initializing BertForSequenceClassification from the checkpoint of a model trained on another task or with another architecture (e.g. initializing a BertForSequenceClassification model from a BertForPreTraining model).\n",
      "- This IS NOT expected if you are initializing BertForSequenceClassification from the checkpoint of a model that you expect to be exactly identical (initializing a BertForSequenceClassification model from a BertForSequenceClassification model).\n",
      "Some weights of BertForSequenceClassification were not initialized from the model checkpoint at bert-base-uncased and are newly initialized: ['classifier.weight', 'classifier.bias']\n",
      "You should probably TRAIN this model on a down-stream task to be able to use it for predictions and inference.\n",
      "/Users/daehyunkim/anaconda3/lib/python3.11/site-packages/transformers/optimization.py:407: FutureWarning: This implementation of AdamW is deprecated and will be removed in a future version. Use the PyTorch implementation torch.optim.AdamW instead, or set `no_deprecation_warning=True` to disable this warning\n",
      "  warnings.warn(\n"
     ]
    }
   ],
   "source": [
    "# BERT 모델 불러오기\n",
    "model = BertForSequenceClassification.from_pretrained('bert-base-uncased', num_labels=3)  # 'num_labels'는 클래스 수에 맞게 설정\n",
    "device = torch.device('cuda' if torch.cuda.is_available() else 'cpu')\n",
    "model.to(device)\n",
    "\n",
    "# 옵티마이저 설정\n",
    "optimizer = AdamW(model.parameters(), lr=2e-5, eps=1e-8)\n",
    "epochs = 4\n",
    "total_steps = len(train_dataloader) * epochs\n",
    "scheduler = get_linear_schedule_with_warmup(optimizer, num_warmup_steps=0, num_training_steps=total_steps)\n"
   ]
  },
  {
   "cell_type": "code",
   "execution_count": 70,
   "metadata": {
    "executionInfo": {
     "elapsed": 1870468,
     "status": "ok",
     "timestamp": 1696917171873,
     "user": {
      "displayName": "‍황동규[재학 / 컴퓨터.전자시스템공학전공]",
      "userId": "14374219645445976415"
     },
     "user_tz": -540
    },
    "id": "AOlIIW5gBSTh"
   },
   "outputs": [
    {
     "name": "stdout",
     "output_type": "stream",
     "text": [
      "Epoch 1/4\n",
      "--------------------------------------------------\n",
      "Batch 20/1000 - Loss: 1.0112\n",
      "Batch 40/1000 - Loss: 0.6600\n",
      "Batch 60/1000 - Loss: 0.7413\n",
      "Batch 80/1000 - Loss: 0.8398\n",
      "Batch 100/1000 - Loss: 0.6634\n",
      "Batch 120/1000 - Loss: 0.5557\n",
      "Batch 140/1000 - Loss: 0.6122\n",
      "Batch 160/1000 - Loss: 0.8275\n",
      "Batch 180/1000 - Loss: 0.8559\n",
      "Batch 200/1000 - Loss: 0.7372\n",
      "Batch 220/1000 - Loss: 0.5002\n",
      "Batch 240/1000 - Loss: 0.5457\n",
      "Batch 260/1000 - Loss: 0.5341\n",
      "Batch 280/1000 - Loss: 0.5160\n",
      "Batch 300/1000 - Loss: 0.7178\n",
      "Batch 320/1000 - Loss: 0.7609\n",
      "Batch 340/1000 - Loss: 0.5939\n",
      "Batch 360/1000 - Loss: 0.3783\n",
      "Batch 380/1000 - Loss: 0.6452\n",
      "Batch 400/1000 - Loss: 0.3025\n",
      "Batch 420/1000 - Loss: 0.5554\n",
      "Batch 440/1000 - Loss: 0.5241\n",
      "Batch 460/1000 - Loss: 0.5651\n",
      "Batch 480/1000 - Loss: 0.4059\n",
      "Batch 500/1000 - Loss: 0.6527\n",
      "Batch 520/1000 - Loss: 0.3546\n",
      "Batch 540/1000 - Loss: 0.3867\n",
      "Batch 560/1000 - Loss: 0.3153\n",
      "Batch 580/1000 - Loss: 0.4200\n",
      "Batch 600/1000 - Loss: 0.6677\n",
      "Batch 620/1000 - Loss: 0.3581\n",
      "Batch 640/1000 - Loss: 0.5854\n",
      "Batch 660/1000 - Loss: 0.4302\n",
      "Batch 680/1000 - Loss: 0.3773\n",
      "Batch 700/1000 - Loss: 0.3361\n",
      "Batch 720/1000 - Loss: 0.2634\n",
      "Batch 740/1000 - Loss: 0.3976\n",
      "Batch 760/1000 - Loss: 0.2485\n",
      "Batch 780/1000 - Loss: 0.3046\n",
      "Batch 800/1000 - Loss: 0.4572\n",
      "Batch 820/1000 - Loss: 0.3914\n",
      "Batch 840/1000 - Loss: 0.5589\n",
      "Batch 860/1000 - Loss: 0.3938\n",
      "Batch 880/1000 - Loss: 0.4766\n",
      "Batch 900/1000 - Loss: 0.3510\n",
      "Batch 920/1000 - Loss: 0.2884\n",
      "Batch 940/1000 - Loss: 0.5210\n",
      "Batch 960/1000 - Loss: 0.3172\n",
      "Batch 980/1000 - Loss: 0.2700\n",
      "Batch 1000/1000 - Loss: 0.3562\n",
      "Average training loss: 0.5005\n",
      "Time taken for epoch 1: 1:01:10.621518\n",
      "Estimated time remaining for training: 3:03:31.864554\n",
      "\n",
      "\n",
      "Epoch 2/4\n",
      "--------------------------------------------------\n",
      "Batch 20/1000 - Loss: 0.4363\n",
      "Batch 40/1000 - Loss: 0.4221\n",
      "Batch 60/1000 - Loss: 0.3043\n",
      "Batch 80/1000 - Loss: 0.2336\n",
      "Batch 100/1000 - Loss: 0.1563\n",
      "Batch 120/1000 - Loss: 0.5608\n",
      "Batch 140/1000 - Loss: 0.2520\n",
      "Batch 160/1000 - Loss: 0.3023\n",
      "Batch 180/1000 - Loss: 0.2774\n",
      "Batch 200/1000 - Loss: 0.2163\n",
      "Batch 220/1000 - Loss: 0.2891\n",
      "Batch 240/1000 - Loss: 0.1264\n",
      "Batch 260/1000 - Loss: 0.2229\n",
      "Batch 280/1000 - Loss: 0.2085\n",
      "Batch 300/1000 - Loss: 0.2185\n",
      "Batch 320/1000 - Loss: 0.4227\n",
      "Batch 340/1000 - Loss: 0.4099\n",
      "Batch 360/1000 - Loss: 0.3491\n",
      "Batch 380/1000 - Loss: 0.1952\n",
      "Batch 400/1000 - Loss: 0.5705\n",
      "Batch 420/1000 - Loss: 0.2450\n",
      "Batch 440/1000 - Loss: 0.4261\n",
      "Batch 460/1000 - Loss: 0.3184\n",
      "Batch 480/1000 - Loss: 0.6203\n",
      "Batch 500/1000 - Loss: 0.2677\n",
      "Batch 520/1000 - Loss: 0.1473\n",
      "Batch 540/1000 - Loss: 0.2744\n",
      "Batch 560/1000 - Loss: 0.3189\n",
      "Batch 580/1000 - Loss: 0.4481\n",
      "Batch 600/1000 - Loss: 0.2489\n",
      "Batch 620/1000 - Loss: 0.5733\n",
      "Batch 640/1000 - Loss: 0.5509\n",
      "Batch 660/1000 - Loss: 0.2718\n",
      "Batch 680/1000 - Loss: 0.2568\n",
      "Batch 700/1000 - Loss: 0.4705\n",
      "Batch 720/1000 - Loss: 0.3501\n",
      "Batch 740/1000 - Loss: 0.4428\n",
      "Batch 760/1000 - Loss: 0.7679\n",
      "Batch 780/1000 - Loss: 0.3902\n",
      "Batch 800/1000 - Loss: 0.1972\n",
      "Batch 820/1000 - Loss: 0.3067\n",
      "Batch 840/1000 - Loss: 0.3364\n",
      "Batch 860/1000 - Loss: 0.2200\n",
      "Batch 880/1000 - Loss: 0.2678\n",
      "Batch 900/1000 - Loss: 0.3169\n",
      "Batch 920/1000 - Loss: 0.3800\n",
      "Batch 940/1000 - Loss: 0.2642\n",
      "Batch 960/1000 - Loss: 0.3362\n",
      "Batch 980/1000 - Loss: 0.1917\n",
      "Batch 1000/1000 - Loss: 0.2035\n",
      "Average training loss: 0.3191\n",
      "Time taken for epoch 2: 0:59:48.398274\n",
      "Estimated time remaining for training: 1:59:36.796548\n",
      "\n",
      "\n",
      "Epoch 3/4\n",
      "--------------------------------------------------\n",
      "Batch 20/1000 - Loss: 0.1724\n",
      "Batch 40/1000 - Loss: 0.1009\n",
      "Batch 60/1000 - Loss: 0.3574\n",
      "Batch 80/1000 - Loss: 0.2615\n",
      "Batch 100/1000 - Loss: 0.1427\n",
      "Batch 120/1000 - Loss: 0.2636\n",
      "Batch 140/1000 - Loss: 0.2987\n",
      "Batch 160/1000 - Loss: 0.1767\n",
      "Batch 180/1000 - Loss: 0.2134\n",
      "Batch 200/1000 - Loss: 0.1629\n",
      "Batch 220/1000 - Loss: 0.5151\n",
      "Batch 240/1000 - Loss: 0.3214\n",
      "Batch 260/1000 - Loss: 0.4135\n",
      "Batch 280/1000 - Loss: 0.2372\n",
      "Batch 300/1000 - Loss: 0.3002\n",
      "Batch 320/1000 - Loss: 0.2612\n",
      "Batch 340/1000 - Loss: 0.3243\n",
      "Batch 360/1000 - Loss: 0.2094\n",
      "Batch 380/1000 - Loss: 0.1632\n",
      "Batch 400/1000 - Loss: 0.1988\n",
      "Batch 420/1000 - Loss: 0.1117\n",
      "Batch 440/1000 - Loss: 0.2202\n",
      "Batch 460/1000 - Loss: 0.1958\n",
      "Batch 480/1000 - Loss: 0.1088\n",
      "Batch 500/1000 - Loss: 0.2041\n",
      "Batch 520/1000 - Loss: 0.1889\n",
      "Batch 540/1000 - Loss: 0.2543\n",
      "Batch 560/1000 - Loss: 0.3794\n",
      "Batch 580/1000 - Loss: 0.2077\n",
      "Batch 600/1000 - Loss: 0.3102\n",
      "Batch 620/1000 - Loss: 0.2671\n",
      "Batch 640/1000 - Loss: 0.1817\n",
      "Batch 660/1000 - Loss: 0.3912\n",
      "Batch 680/1000 - Loss: 0.2683\n",
      "Batch 700/1000 - Loss: 0.3308\n",
      "Batch 720/1000 - Loss: 0.1230\n",
      "Batch 740/1000 - Loss: 0.1623\n",
      "Batch 760/1000 - Loss: 0.0958\n",
      "Batch 780/1000 - Loss: 0.1961\n",
      "Batch 800/1000 - Loss: 0.1834\n",
      "Batch 820/1000 - Loss: 0.2426\n",
      "Batch 840/1000 - Loss: 0.1722\n",
      "Batch 860/1000 - Loss: 0.2253\n",
      "Batch 880/1000 - Loss: 0.1933\n",
      "Batch 900/1000 - Loss: 0.1059\n",
      "Batch 920/1000 - Loss: 0.2541\n",
      "Batch 940/1000 - Loss: 0.2962\n",
      "Batch 960/1000 - Loss: 0.3786\n",
      "Batch 980/1000 - Loss: 0.0891\n",
      "Batch 1000/1000 - Loss: 0.0585\n",
      "Average training loss: 0.2214\n",
      "Time taken for epoch 3: 1:00:03.963658\n",
      "Estimated time remaining for training: 1:00:03.963658\n",
      "\n",
      "\n",
      "Epoch 4/4\n",
      "--------------------------------------------------\n",
      "Batch 20/1000 - Loss: 0.1725\n",
      "Batch 40/1000 - Loss: 0.3117\n",
      "Batch 60/1000 - Loss: 0.1978\n",
      "Batch 80/1000 - Loss: 0.2568\n",
      "Batch 100/1000 - Loss: 0.3329\n",
      "Batch 120/1000 - Loss: 0.4302\n",
      "Batch 140/1000 - Loss: 0.0398\n",
      "Batch 160/1000 - Loss: 0.0412\n",
      "Batch 180/1000 - Loss: 0.0324\n",
      "Batch 200/1000 - Loss: 0.2083\n",
      "Batch 220/1000 - Loss: 0.1831\n",
      "Batch 240/1000 - Loss: 0.2656\n",
      "Batch 260/1000 - Loss: 0.1729\n",
      "Batch 280/1000 - Loss: 0.0439\n",
      "Batch 300/1000 - Loss: 0.0880\n",
      "Batch 320/1000 - Loss: 0.2406\n",
      "Batch 340/1000 - Loss: 0.0620\n",
      "Batch 360/1000 - Loss: 0.2294\n",
      "Batch 380/1000 - Loss: 0.1554\n",
      "Batch 400/1000 - Loss: 0.0379\n",
      "Batch 420/1000 - Loss: 0.2401\n",
      "Batch 440/1000 - Loss: 0.0592\n",
      "Batch 460/1000 - Loss: 0.1260\n",
      "Batch 480/1000 - Loss: 0.1316\n",
      "Batch 500/1000 - Loss: 0.0212\n",
      "Batch 520/1000 - Loss: 0.0244\n",
      "Batch 540/1000 - Loss: 0.2616\n",
      "Batch 560/1000 - Loss: 0.2214\n",
      "Batch 580/1000 - Loss: 0.2421\n",
      "Batch 600/1000 - Loss: 0.0913\n",
      "Batch 620/1000 - Loss: 0.1170\n",
      "Batch 640/1000 - Loss: 0.0592\n",
      "Batch 660/1000 - Loss: 0.1166\n",
      "Batch 680/1000 - Loss: 0.2003\n",
      "Batch 700/1000 - Loss: 0.0653\n",
      "Batch 720/1000 - Loss: 0.1484\n",
      "Batch 740/1000 - Loss: 0.2060\n",
      "Batch 760/1000 - Loss: 0.1891\n",
      "Batch 780/1000 - Loss: 0.0529\n",
      "Batch 800/1000 - Loss: 0.1074\n",
      "Batch 820/1000 - Loss: 0.3074\n",
      "Batch 840/1000 - Loss: 0.0224\n",
      "Batch 860/1000 - Loss: 0.3567\n",
      "Batch 880/1000 - Loss: 0.2185\n",
      "Batch 900/1000 - Loss: 0.0711\n",
      "Batch 920/1000 - Loss: 0.1024\n",
      "Batch 940/1000 - Loss: 0.1762\n",
      "Batch 960/1000 - Loss: 0.2004\n",
      "Batch 980/1000 - Loss: 0.1235\n",
      "Batch 1000/1000 - Loss: 0.2588\n",
      "Average training loss: 0.1526\n",
      "Time taken for epoch 4: 1:04:29.555554\n",
      "Estimated time remaining for training: 0:00:00\n",
      "\n",
      "\n"
     ]
    }
   ],
   "source": [
    "import datetime\n",
    "\n",
    "# 학습 루프\n",
    "for epoch in range(epochs):\n",
    "    start_time = datetime.datetime.now()\n",
    "    \n",
    "    print(f\"Epoch {epoch+1}/{epochs}\")\n",
    "    print('-' * 50)\n",
    "    \n",
    "    model.train()\n",
    "    total_loss = 0\n",
    "    progress = 0  # 배치의 진행도를 추적하기 위한 변수\n",
    "    \n",
    "    for batch in train_dataloader:\n",
    "        batch = tuple(t.to(device) for t in batch)\n",
    "        inputs = {'input_ids': batch[0], 'attention_mask': batch[1], 'token_type_ids': batch[2], 'labels': batch[3]}\n",
    "        optimizer.zero_grad()\n",
    "        outputs = model(**inputs)\n",
    "        loss = outputs.loss\n",
    "        total_loss += loss.item()\n",
    "        loss.backward()\n",
    "        torch.nn.utils.clip_grad_norm_(model.parameters(), 1.0)\n",
    "        optimizer.step()\n",
    "        scheduler.step()\n",
    "        \n",
    "        # 일정 배치 간격마다 손실을 출력합니다.\n",
    "        progress += 1\n",
    "        if progress % 20 == 0:  # 20배치마다 진행 상황 출력 (원하는 숫자로 변경 가능)\n",
    "            print(f\"Batch {progress}/{len(train_dataloader)} - Loss: {loss.item():.4f}\")\n",
    "            \n",
    "    avg_train_loss = total_loss / len(train_dataloader)\n",
    "    print(f\"Average training loss: {avg_train_loss:.4f}\")\n",
    "    \n",
    "    # 각 epoch의 소요 시간 계산\n",
    "    end_time = datetime.datetime.now()\n",
    "    elapsed_time = end_time - start_time\n",
    "    remaining_time = elapsed_time * (epochs - (epoch + 1))\n",
    "    \n",
    "    print(f\"Time taken for epoch {epoch+1}: {elapsed_time}\")\n",
    "    print(f\"Estimated time remaining for training: {remaining_time}\")\n",
    "    print('\\n')\n",
    "    \n",
    "    # 검증 및 평가 코드를 여기에 추가할 수 있습니다.\n"
   ]
  },
  {
   "cell_type": "code",
   "execution_count": 71,
   "metadata": {},
   "outputs": [
    {
     "name": "stdout",
     "output_type": "stream",
     "text": [
      "Index(['id', 'text', 'sentiment'], dtype='object')\n"
     ]
    }
   ],
   "source": [
    "print(X_test.columns)"
   ]
  },
  {
   "cell_type": "code",
   "execution_count": 72,
   "metadata": {},
   "outputs": [
    {
     "name": "stdout",
     "output_type": "stream",
     "text": [
      "<class 'transformers.tokenization_utils_base.BatchEncoding'>\n"
     ]
    }
   ],
   "source": [
    "print(type(X_train))"
   ]
  },
  {
   "cell_type": "code",
   "execution_count": 73,
   "metadata": {},
   "outputs": [
    {
     "name": "stdout",
     "output_type": "stream",
     "text": [
      "<class 'pandas.core.frame.DataFrame'>\n"
     ]
    }
   ],
   "source": [
    "print(type(X_test))"
   ]
  },
  {
   "cell_type": "code",
   "execution_count": 74,
   "metadata": {},
   "outputs": [
    {
     "name": "stdout",
     "output_type": "stream",
     "text": [
      "Index(['id', 'text', 'sentiment'], dtype='object')\n"
     ]
    }
   ],
   "source": [
    "print(X_test.columns)"
   ]
  },
  {
   "cell_type": "code",
   "execution_count": 75,
   "metadata": {},
   "outputs": [],
   "source": [
    "from transformers import BertTokenizer\n",
    "\n",
    "# BERT 토크나이저 초기화\n",
    "tokenizer = BertTokenizer.from_pretrained('bert-base-uncased')\n",
    "\n",
    "# X_test 토큰화\n",
    "encoded_test = tokenizer(list(X_test['text']), truncation=True, padding=True, return_tensors=\"pt\")\n",
    "\n",
    "# 테스트 데이터를 DataLoader로 변환\n",
    "test_dataset = TensorDataset(encoded_test['input_ids'], encoded_test['attention_mask'], encoded_test['token_type_ids'])\n",
    "test_dataloader = DataLoader(test_dataset, batch_size=batch_size)\n"
   ]
  },
  {
   "cell_type": "code",
   "execution_count": 76,
   "metadata": {
    "scrolled": true
   },
   "outputs": [
    {
     "name": "stdout",
     "output_type": "stream",
     "text": [
      "<class 'pandas.core.frame.DataFrame'>\n"
     ]
    }
   ],
   "source": [
    "print(type(X_test))"
   ]
  },
  {
   "cell_type": "code",
   "execution_count": 77,
   "metadata": {},
   "outputs": [
    {
     "name": "stdout",
     "output_type": "stream",
     "text": [
      "48000\n"
     ]
    }
   ],
   "source": [
    "print(len(test_data))"
   ]
  },
  {
   "cell_type": "markdown",
   "metadata": {},
   "source": [
    "`X_test` 변수의 타입이 변하지 않는 것은 당연합니다. 위의 코드에서 `X_test` 자체를 변경하지 않았기 때문입니다. 대신 `encoded_test`에 토큰화된 결과가 저장되었습니다.\n",
    "\n",
    "`X_test`는 원본 데이터를 가지고 있는 pandas DataFrame이고, 이 데이터를 BERT 토크나이저로 토큰화한 결과는 `encoded_test`에 저장됩니다. 그리고 `test_dataset`은 이 `encoded_test`를 기반으로 생성됩니다.\n",
    "\n",
    "따라서 다음 작업을 할 때 `X_test`를 그대로 사용하는 것이 아니라, `test_dataset` 혹은 `encoded_test`를 사용하셔야 합니다.\n",
    "\n",
    "요약하면:\n",
    "- `X_test`: 원본 텍스트 데이터를 포함하는 pandas DataFrame입니다.\n",
    "- `encoded_test`: `X_test`를 BERT 토크나이저로 토큰화한 결과입니다.\n",
    "- `test_dataset`: `encoded_test`를 기반으로 생성된 PyTorch Dataset입니다.\n",
    "\n",
    "현재 단계에서는 `X_test`의 타입을 바꾸지 않아도 괜찮습니다. 핵심은 토큰화된 결과 (`encoded_test` 또는 `test_dataset`)를 사용하여 모델을 평가하거나 예측하는 등의 작업을 수행해야 합니다."
   ]
  },
  {
   "cell_type": "code",
   "execution_count": 78,
   "metadata": {
    "scrolled": true
   },
   "outputs": [
    {
     "name": "stdout",
     "output_type": "stream",
     "text": [
      "48000\n"
     ]
    }
   ],
   "source": [
    "# BERT 토크나이저로 test_data 토큰화\n",
    "encoded_test = tokenizer(list(test_data['text']), truncation=True, padding=True, return_tensors=\"pt\")\n",
    "\n",
    "# 토큰화된 결과를 DataLoader로 변환\n",
    "test_dataset = TensorDataset(encoded_test['input_ids'], encoded_test['attention_mask'], encoded_test['token_type_ids'])\n",
    "test_dataloader = DataLoader(test_dataset, batch_size=batch_size)\n",
    "\n",
    "print(len(test_dataset))"
   ]
  },
  {
   "cell_type": "code",
   "execution_count": 85,
   "metadata": {},
   "outputs": [
    {
     "name": "stderr",
     "output_type": "stream",
     "text": [
      "Predicting: 100%|█████████████████████████| 1500/1500 [1:43:45<00:00,  4.15s/it]"
     ]
    },
    {
     "name": "stdout",
     "output_type": "stream",
     "text": [
      "48000\n"
     ]
    },
    {
     "name": "stderr",
     "output_type": "stream",
     "text": [
      "\n"
     ]
    }
   ],
   "source": [
    "from tqdm import tqdm\n",
    "\n",
    "# 테스트 데이터의 예측\n",
    "model.eval()\n",
    "predictions = []\n",
    "\n",
    "for batch in tqdm(test_dataloader, desc=\"Predicting\"):\n",
    "    batch = tuple(t.to(device) for t in batch)\n",
    "    inputs = {'input_ids': batch[0], 'attention_mask': batch[1], 'token_type_ids': batch[2]}\n",
    "    with torch.no_grad():\n",
    "        outputs = model(**inputs)\n",
    "    logits = outputs.logits\n",
    "    predictions.extend(logits.argmax(dim=1).tolist())\n",
    "    \n",
    "print(len(predictions))"
   ]
  },
  {
   "cell_type": "code",
   "execution_count": 86,
   "metadata": {},
   "outputs": [
    {
     "name": "stdout",
     "output_type": "stream",
     "text": [
      "길이가 일치합니다.\n"
     ]
    }
   ],
   "source": [
    "if len(predictions) == len(test_data):\n",
    "    print(\"길이가 일치합니다.\")\n",
    "else:\n",
    "    print(f\"길이 불일치! 예측 길이: {len(predictions)}, test_data 길이: {len(test_data)}\")"
   ]
  },
  {
   "cell_type": "code",
   "execution_count": 87,
   "metadata": {},
   "outputs": [
    {
     "ename": "KeyError",
     "evalue": "'sentiment'",
     "output_type": "error",
     "traceback": [
      "\u001b[0;31m---------------------------------------------------------------------------\u001b[0m",
      "\u001b[0;31mKeyError\u001b[0m                                  Traceback (most recent call last)",
      "File \u001b[0;32m~/anaconda3/lib/python3.11/site-packages/pandas/core/indexes/base.py:3802\u001b[0m, in \u001b[0;36mIndex.get_loc\u001b[0;34m(self, key, method, tolerance)\u001b[0m\n\u001b[1;32m   3801\u001b[0m \u001b[38;5;28;01mtry\u001b[39;00m:\n\u001b[0;32m-> 3802\u001b[0m     \u001b[38;5;28;01mreturn\u001b[39;00m \u001b[38;5;28mself\u001b[39m\u001b[38;5;241m.\u001b[39m_engine\u001b[38;5;241m.\u001b[39mget_loc(casted_key)\n\u001b[1;32m   3803\u001b[0m \u001b[38;5;28;01mexcept\u001b[39;00m \u001b[38;5;167;01mKeyError\u001b[39;00m \u001b[38;5;28;01mas\u001b[39;00m err:\n",
      "File \u001b[0;32m~/anaconda3/lib/python3.11/site-packages/pandas/_libs/index.pyx:138\u001b[0m, in \u001b[0;36mpandas._libs.index.IndexEngine.get_loc\u001b[0;34m()\u001b[0m\n",
      "File \u001b[0;32m~/anaconda3/lib/python3.11/site-packages/pandas/_libs/index.pyx:165\u001b[0m, in \u001b[0;36mpandas._libs.index.IndexEngine.get_loc\u001b[0;34m()\u001b[0m\n",
      "File \u001b[0;32mpandas/_libs/hashtable_class_helper.pxi:5745\u001b[0m, in \u001b[0;36mpandas._libs.hashtable.PyObjectHashTable.get_item\u001b[0;34m()\u001b[0m\n",
      "File \u001b[0;32mpandas/_libs/hashtable_class_helper.pxi:5753\u001b[0m, in \u001b[0;36mpandas._libs.hashtable.PyObjectHashTable.get_item\u001b[0;34m()\u001b[0m\n",
      "\u001b[0;31mKeyError\u001b[0m: 'sentiment'",
      "\nThe above exception was the direct cause of the following exception:\n",
      "\u001b[0;31mKeyError\u001b[0m                                  Traceback (most recent call last)",
      "Cell \u001b[0;32mIn[87], line 2\u001b[0m\n\u001b[1;32m      1\u001b[0m \u001b[38;5;66;03m# f1 score 출력\u001b[39;00m\n\u001b[0;32m----> 2\u001b[0m true_labels \u001b[38;5;241m=\u001b[39m test_data[\u001b[38;5;124m'\u001b[39m\u001b[38;5;124msentiment\u001b[39m\u001b[38;5;124m'\u001b[39m]\u001b[38;5;241m.\u001b[39mtolist()\n\u001b[1;32m      3\u001b[0m f1 \u001b[38;5;241m=\u001b[39m f1_score(true_labels, predictions, average\u001b[38;5;241m=\u001b[39m\u001b[38;5;124m'\u001b[39m\u001b[38;5;124mmacro\u001b[39m\u001b[38;5;124m'\u001b[39m)\n\u001b[1;32m      4\u001b[0m \u001b[38;5;28mprint\u001b[39m(\u001b[38;5;124mf\u001b[39m\u001b[38;5;124m\"\u001b[39m\u001b[38;5;124mF1 Score: \u001b[39m\u001b[38;5;132;01m{\u001b[39;00mf1\u001b[38;5;132;01m:\u001b[39;00m\u001b[38;5;124m.4f\u001b[39m\u001b[38;5;132;01m}\u001b[39;00m\u001b[38;5;124m\"\u001b[39m)\n",
      "File \u001b[0;32m~/anaconda3/lib/python3.11/site-packages/pandas/core/frame.py:3807\u001b[0m, in \u001b[0;36mDataFrame.__getitem__\u001b[0;34m(self, key)\u001b[0m\n\u001b[1;32m   3805\u001b[0m \u001b[38;5;28;01mif\u001b[39;00m \u001b[38;5;28mself\u001b[39m\u001b[38;5;241m.\u001b[39mcolumns\u001b[38;5;241m.\u001b[39mnlevels \u001b[38;5;241m>\u001b[39m \u001b[38;5;241m1\u001b[39m:\n\u001b[1;32m   3806\u001b[0m     \u001b[38;5;28;01mreturn\u001b[39;00m \u001b[38;5;28mself\u001b[39m\u001b[38;5;241m.\u001b[39m_getitem_multilevel(key)\n\u001b[0;32m-> 3807\u001b[0m indexer \u001b[38;5;241m=\u001b[39m \u001b[38;5;28mself\u001b[39m\u001b[38;5;241m.\u001b[39mcolumns\u001b[38;5;241m.\u001b[39mget_loc(key)\n\u001b[1;32m   3808\u001b[0m \u001b[38;5;28;01mif\u001b[39;00m is_integer(indexer):\n\u001b[1;32m   3809\u001b[0m     indexer \u001b[38;5;241m=\u001b[39m [indexer]\n",
      "File \u001b[0;32m~/anaconda3/lib/python3.11/site-packages/pandas/core/indexes/base.py:3804\u001b[0m, in \u001b[0;36mIndex.get_loc\u001b[0;34m(self, key, method, tolerance)\u001b[0m\n\u001b[1;32m   3802\u001b[0m     \u001b[38;5;28;01mreturn\u001b[39;00m \u001b[38;5;28mself\u001b[39m\u001b[38;5;241m.\u001b[39m_engine\u001b[38;5;241m.\u001b[39mget_loc(casted_key)\n\u001b[1;32m   3803\u001b[0m \u001b[38;5;28;01mexcept\u001b[39;00m \u001b[38;5;167;01mKeyError\u001b[39;00m \u001b[38;5;28;01mas\u001b[39;00m err:\n\u001b[0;32m-> 3804\u001b[0m     \u001b[38;5;28;01mraise\u001b[39;00m \u001b[38;5;167;01mKeyError\u001b[39;00m(key) \u001b[38;5;28;01mfrom\u001b[39;00m \u001b[38;5;21;01merr\u001b[39;00m\n\u001b[1;32m   3805\u001b[0m \u001b[38;5;28;01mexcept\u001b[39;00m \u001b[38;5;167;01mTypeError\u001b[39;00m:\n\u001b[1;32m   3806\u001b[0m     \u001b[38;5;66;03m# If we have a listlike key, _check_indexing_error will raise\u001b[39;00m\n\u001b[1;32m   3807\u001b[0m     \u001b[38;5;66;03m#  InvalidIndexError. Otherwise we fall through and re-raise\u001b[39;00m\n\u001b[1;32m   3808\u001b[0m     \u001b[38;5;66;03m#  the TypeError.\u001b[39;00m\n\u001b[1;32m   3809\u001b[0m     \u001b[38;5;28mself\u001b[39m\u001b[38;5;241m.\u001b[39m_check_indexing_error(key)\n",
      "\u001b[0;31mKeyError\u001b[0m: 'sentiment'"
     ]
    }
   ],
   "source": [
    "# f1 score 출력\n",
    "true_labels = test_data['sentiment'].tolist()\n",
    "f1 = f1_score(true_labels, predictions, average='macro')\n",
    "print(f\"F1 Score: {f1:.4f}\")"
   ]
  },
  {
   "cell_type": "code",
   "execution_count": 88,
   "metadata": {
    "executionInfo": {
     "elapsed": 290,
     "status": "ok",
     "timestamp": 1696917822328,
     "user": {
      "displayName": "‍황동규[재학 / 컴퓨터.전자시스템공학전공]",
      "userId": "14374219645445976415"
     },
     "user_tz": -540
    },
    "id": "n9p0JshsLxJD"
   },
   "outputs": [],
   "source": [
    "test_data['sentiment'] = predictions\n",
    "test_data[['id', 'sentiment']].to_csv('bert_submission.csv', index=False)"
   ]
  },
  {
   "cell_type": "code",
   "execution_count": null,
   "metadata": {},
   "outputs": [],
   "source": []
  }
 ],
 "metadata": {
  "accelerator": "GPU",
  "colab": {
   "authorship_tag": "ABX9TyPWcg/ohSvd8RbWpSB9ZfzI",
   "gpuType": "T4",
   "mount_file_id": "16FYnZRyCPQqJKmz23bB4masPHmRv50k3",
   "provenance": []
  },
  "kernelspec": {
   "display_name": "Python 3 (ipykernel)",
   "language": "python",
   "name": "python3"
  },
  "language_info": {
   "codemirror_mode": {
    "name": "ipython",
    "version": 3
   },
   "file_extension": ".py",
   "mimetype": "text/x-python",
   "name": "python",
   "nbconvert_exporter": "python",
   "pygments_lexer": "ipython3",
   "version": "3.11.4"
  },
  "widgets": {
   "application/vnd.jupyter.widget-state+json": {
    "2106bfc047cb4208ab4eaee55b45d4e9": {
     "model_module": "@jupyter-widgets/controls",
     "model_module_version": "1.5.0",
     "model_name": "DescriptionStyleModel",
     "state": {
      "_model_module": "@jupyter-widgets/controls",
      "_model_module_version": "1.5.0",
      "_model_name": "DescriptionStyleModel",
      "_view_count": null,
      "_view_module": "@jupyter-widgets/base",
      "_view_module_version": "1.2.0",
      "_view_name": "StyleView",
      "description_width": ""
     }
    },
    "22b8390bad6f4324901339c07b73eba5": {
     "model_module": "@jupyter-widgets/controls",
     "model_module_version": "1.5.0",
     "model_name": "HTMLModel",
     "state": {
      "_dom_classes": [],
      "_model_module": "@jupyter-widgets/controls",
      "_model_module_version": "1.5.0",
      "_model_name": "HTMLModel",
      "_view_count": null,
      "_view_module": "@jupyter-widgets/controls",
      "_view_module_version": "1.5.0",
      "_view_name": "HTMLView",
      "description": "",
      "description_tooltip": null,
      "layout": "IPY_MODEL_97d7310cdee94252bacf43279756738e",
      "placeholder": "​",
      "style": "IPY_MODEL_29d38e9d16a2450f8608ecc7259298f9",
      "value": " 440M/440M [00:02&lt;00:00, 221MB/s]"
     }
    },
    "29d38e9d16a2450f8608ecc7259298f9": {
     "model_module": "@jupyter-widgets/controls",
     "model_module_version": "1.5.0",
     "model_name": "DescriptionStyleModel",
     "state": {
      "_model_module": "@jupyter-widgets/controls",
      "_model_module_version": "1.5.0",
      "_model_name": "DescriptionStyleModel",
      "_view_count": null,
      "_view_module": "@jupyter-widgets/base",
      "_view_module_version": "1.2.0",
      "_view_name": "StyleView",
      "description_width": ""
     }
    },
    "33aeac6a2bc1404d9dc0739b9ac0b42a": {
     "model_module": "@jupyter-widgets/base",
     "model_module_version": "1.2.0",
     "model_name": "LayoutModel",
     "state": {
      "_model_module": "@jupyter-widgets/base",
      "_model_module_version": "1.2.0",
      "_model_name": "LayoutModel",
      "_view_count": null,
      "_view_module": "@jupyter-widgets/base",
      "_view_module_version": "1.2.0",
      "_view_name": "LayoutView",
      "align_content": null,
      "align_items": null,
      "align_self": null,
      "border": null,
      "bottom": null,
      "display": null,
      "flex": null,
      "flex_flow": null,
      "grid_area": null,
      "grid_auto_columns": null,
      "grid_auto_flow": null,
      "grid_auto_rows": null,
      "grid_column": null,
      "grid_gap": null,
      "grid_row": null,
      "grid_template_areas": null,
      "grid_template_columns": null,
      "grid_template_rows": null,
      "height": null,
      "justify_content": null,
      "justify_items": null,
      "left": null,
      "margin": null,
      "max_height": null,
      "max_width": null,
      "min_height": null,
      "min_width": null,
      "object_fit": null,
      "object_position": null,
      "order": null,
      "overflow": null,
      "overflow_x": null,
      "overflow_y": null,
      "padding": null,
      "right": null,
      "top": null,
      "visibility": null,
      "width": null
     }
    },
    "85688076cf2f4be0a997af48661cd286": {
     "model_module": "@jupyter-widgets/base",
     "model_module_version": "1.2.0",
     "model_name": "LayoutModel",
     "state": {
      "_model_module": "@jupyter-widgets/base",
      "_model_module_version": "1.2.0",
      "_model_name": "LayoutModel",
      "_view_count": null,
      "_view_module": "@jupyter-widgets/base",
      "_view_module_version": "1.2.0",
      "_view_name": "LayoutView",
      "align_content": null,
      "align_items": null,
      "align_self": null,
      "border": null,
      "bottom": null,
      "display": null,
      "flex": null,
      "flex_flow": null,
      "grid_area": null,
      "grid_auto_columns": null,
      "grid_auto_flow": null,
      "grid_auto_rows": null,
      "grid_column": null,
      "grid_gap": null,
      "grid_row": null,
      "grid_template_areas": null,
      "grid_template_columns": null,
      "grid_template_rows": null,
      "height": null,
      "justify_content": null,
      "justify_items": null,
      "left": null,
      "margin": null,
      "max_height": null,
      "max_width": null,
      "min_height": null,
      "min_width": null,
      "object_fit": null,
      "object_position": null,
      "order": null,
      "overflow": null,
      "overflow_x": null,
      "overflow_y": null,
      "padding": null,
      "right": null,
      "top": null,
      "visibility": null,
      "width": null
     }
    },
    "97d7310cdee94252bacf43279756738e": {
     "model_module": "@jupyter-widgets/base",
     "model_module_version": "1.2.0",
     "model_name": "LayoutModel",
     "state": {
      "_model_module": "@jupyter-widgets/base",
      "_model_module_version": "1.2.0",
      "_model_name": "LayoutModel",
      "_view_count": null,
      "_view_module": "@jupyter-widgets/base",
      "_view_module_version": "1.2.0",
      "_view_name": "LayoutView",
      "align_content": null,
      "align_items": null,
      "align_self": null,
      "border": null,
      "bottom": null,
      "display": null,
      "flex": null,
      "flex_flow": null,
      "grid_area": null,
      "grid_auto_columns": null,
      "grid_auto_flow": null,
      "grid_auto_rows": null,
      "grid_column": null,
      "grid_gap": null,
      "grid_row": null,
      "grid_template_areas": null,
      "grid_template_columns": null,
      "grid_template_rows": null,
      "height": null,
      "justify_content": null,
      "justify_items": null,
      "left": null,
      "margin": null,
      "max_height": null,
      "max_width": null,
      "min_height": null,
      "min_width": null,
      "object_fit": null,
      "object_position": null,
      "order": null,
      "overflow": null,
      "overflow_x": null,
      "overflow_y": null,
      "padding": null,
      "right": null,
      "top": null,
      "visibility": null,
      "width": null
     }
    },
    "b1422048965b4196aca9c736f44faec3": {
     "model_module": "@jupyter-widgets/controls",
     "model_module_version": "1.5.0",
     "model_name": "HBoxModel",
     "state": {
      "_dom_classes": [],
      "_model_module": "@jupyter-widgets/controls",
      "_model_module_version": "1.5.0",
      "_model_name": "HBoxModel",
      "_view_count": null,
      "_view_module": "@jupyter-widgets/controls",
      "_view_module_version": "1.5.0",
      "_view_name": "HBoxView",
      "box_style": "",
      "children": [
       "IPY_MODEL_e774d1b4e46947e8acafa037b1372f25",
       "IPY_MODEL_ce427e8a878446ea95a1d2c07b37c8ad",
       "IPY_MODEL_22b8390bad6f4324901339c07b73eba5"
      ],
      "layout": "IPY_MODEL_b8307a3936af42b283d6dfa86d47d03b"
     }
    },
    "b8307a3936af42b283d6dfa86d47d03b": {
     "model_module": "@jupyter-widgets/base",
     "model_module_version": "1.2.0",
     "model_name": "LayoutModel",
     "state": {
      "_model_module": "@jupyter-widgets/base",
      "_model_module_version": "1.2.0",
      "_model_name": "LayoutModel",
      "_view_count": null,
      "_view_module": "@jupyter-widgets/base",
      "_view_module_version": "1.2.0",
      "_view_name": "LayoutView",
      "align_content": null,
      "align_items": null,
      "align_self": null,
      "border": null,
      "bottom": null,
      "display": null,
      "flex": null,
      "flex_flow": null,
      "grid_area": null,
      "grid_auto_columns": null,
      "grid_auto_flow": null,
      "grid_auto_rows": null,
      "grid_column": null,
      "grid_gap": null,
      "grid_row": null,
      "grid_template_areas": null,
      "grid_template_columns": null,
      "grid_template_rows": null,
      "height": null,
      "justify_content": null,
      "justify_items": null,
      "left": null,
      "margin": null,
      "max_height": null,
      "max_width": null,
      "min_height": null,
      "min_width": null,
      "object_fit": null,
      "object_position": null,
      "order": null,
      "overflow": null,
      "overflow_x": null,
      "overflow_y": null,
      "padding": null,
      "right": null,
      "top": null,
      "visibility": null,
      "width": null
     }
    },
    "ce427e8a878446ea95a1d2c07b37c8ad": {
     "model_module": "@jupyter-widgets/controls",
     "model_module_version": "1.5.0",
     "model_name": "FloatProgressModel",
     "state": {
      "_dom_classes": [],
      "_model_module": "@jupyter-widgets/controls",
      "_model_module_version": "1.5.0",
      "_model_name": "FloatProgressModel",
      "_view_count": null,
      "_view_module": "@jupyter-widgets/controls",
      "_view_module_version": "1.5.0",
      "_view_name": "ProgressView",
      "bar_style": "success",
      "description": "",
      "description_tooltip": null,
      "layout": "IPY_MODEL_85688076cf2f4be0a997af48661cd286",
      "max": 440449768,
      "min": 0,
      "orientation": "horizontal",
      "style": "IPY_MODEL_f1cb4305d6e440acaf98d3004454c115",
      "value": 440449768
     }
    },
    "e774d1b4e46947e8acafa037b1372f25": {
     "model_module": "@jupyter-widgets/controls",
     "model_module_version": "1.5.0",
     "model_name": "HTMLModel",
     "state": {
      "_dom_classes": [],
      "_model_module": "@jupyter-widgets/controls",
      "_model_module_version": "1.5.0",
      "_model_name": "HTMLModel",
      "_view_count": null,
      "_view_module": "@jupyter-widgets/controls",
      "_view_module_version": "1.5.0",
      "_view_name": "HTMLView",
      "description": "",
      "description_tooltip": null,
      "layout": "IPY_MODEL_33aeac6a2bc1404d9dc0739b9ac0b42a",
      "placeholder": "​",
      "style": "IPY_MODEL_2106bfc047cb4208ab4eaee55b45d4e9",
      "value": "Downloading model.safetensors: 100%"
     }
    },
    "f1cb4305d6e440acaf98d3004454c115": {
     "model_module": "@jupyter-widgets/controls",
     "model_module_version": "1.5.0",
     "model_name": "ProgressStyleModel",
     "state": {
      "_model_module": "@jupyter-widgets/controls",
      "_model_module_version": "1.5.0",
      "_model_name": "ProgressStyleModel",
      "_view_count": null,
      "_view_module": "@jupyter-widgets/base",
      "_view_module_version": "1.2.0",
      "_view_name": "StyleView",
      "bar_color": null,
      "description_width": ""
     }
    }
   }
  }
 },
 "nbformat": 4,
 "nbformat_minor": 1
}
