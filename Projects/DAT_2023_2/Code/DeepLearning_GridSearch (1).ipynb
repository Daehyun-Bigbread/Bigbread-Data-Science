{
 "cells": [
  {
   "attachments": {},
   "cell_type": "markdown",
   "metadata": {},
   "source": [
    "# Deep Learning"
   ]
  },
  {
   "cell_type": "code",
   "execution_count": null,
   "metadata": {},
   "outputs": [],
   "source": [
    "import numpy as np\n",
    "import tensorflow as tf\n",
    "from tensorflow.keras.regularizers import l1 as l1_regularizer, l2 as l2_regularizer\n",
    "from tensorflow.keras.wrappers.scikit_learn import KerasRegressor\n",
    "from sklearn.model_selection import GridSearchCV\n",
    "from sklearn.metrics import make_scorer\n",
    "import pandas as pd\n",
    "\n",
    "# RMSLE 손실 함수 정의\n",
    "def rmsle(y_true, y_pred):\n",
    "    y_true = tf.maximum(tf.cast(y_true, tf.float32), 0)\n",
    "    y_pred = tf.maximum(tf.cast(y_pred, tf.float32), 0)\n",
    "    squared_error = tf.square(tf.math.log1p(y_pred) - tf.math.log1p(y_true))\n",
    "    return tf.sqrt(tf.reduce_mean(squared_error))\n",
    "\n",
    "# 모델 생성 함수 정의\n",
    "def create_model(learning_rate, l1_reg, l2_reg):\n",
    "    input_layer = tf.keras.Input(shape=(len(train_x.columns),))\n",
    "    x = tf.keras.layers.BatchNormalization(epsilon=0.00001)(input_layer)\n",
    "    x = tf.keras.layers.Dense(16, activation='relu', kernel_regularizer=l1_regularizer(l1_reg))(x)\n",
    "    x = tf.keras.layers.Dense(32, activation='relu', kernel_regularizer=l2_regularizer(l2_reg))(x)\n",
    "    output_layer = tf.keras.layers.Dense(1)(x)\n",
    "    \n",
    "    model = tf.keras.Model(inputs=input_layer, outputs=output_layer)\n",
    "    model.compile(optimizer=tf.keras.optimizers.Adam(learning_rate),\n",
    "                  loss=rmsle,\n",
    "                  metrics=[rmsle])\n",
    "    return model\n",
    "\n",
    "def loss_fn(y_true, y_pred):\n",
    "    return rmsle(y_true, y_pred) #차이 손실함수 반환\n",
    "\n",
    "def metric_fn(y_true, y_pred):\n",
    "    return rmsle(y_true, y_pred)"
   ]
  },
  {
   "cell_type": "code",
   "execution_count": null,
   "metadata": {},
   "outputs": [],
   "source": [
    "# KerasRegressor 래퍼를 사용\n",
    "model = KerasRegressor(build_fn=create_model, epochs=100, batch_size=32, verbose=0)\n",
    "\n",
    "# 하이퍼파라미터 그리드 정의\n",
    "param_grid = {\n",
    "    'learning_rate': [0.1, 0.01, 0.001, 0.0001],\n",
    "    'l1_reg': [0.01, 0.001, 0.0001],\n",
    "    'l2_reg': [0.01, 0.001, 0.0001],\n",
    "    'batch_size': [32, 64, 128]\n",
    "}\n",
    "\n",
    "# 사용자 정의 스코어링 함수 (RMSLE)\n",
    "def rmsle_scorer(y_true, y_pred):\n",
    "    y_true = np.maximum(y_true, 0)\n",
    "    y_pred = np.maximum(y_pred, 0)\n",
    "    squared_error = np.square(np.log1p(y_pred) - np.log1p(y_true))\n",
    "    return np.sqrt(np.mean(squared_error))\n",
    "\n",
    "# GridSearchCV 생성\n",
    "grid = GridSearchCV(estimator=model, \n",
    "                    param_grid=param_grid, \n",
    "                    scoring=make_scorer(rmsle_scorer, greater_is_better=False), \n",
    "                    cv=3)\n",
    "\n",
    "# 그리드 서치 실행\n",
    "grid_result = grid.fit(train_x.astype('float32'), train_y.astype('float32'))\n",
    "\n",
    "# 결과 출력\n",
    "print(\"Best: %f using %s\" % (grid_result.best_score_, grid_result.best_params_))\n",
    "\n",
    "# 결과를 데이터프레임으로 변환 후 CSV 파일로 저장\n",
    "results_df = pd.DataFrame(grid_result.cv_results_)\n",
    "results_df.to_csv('hyperparameter_tuning_results.csv', index=False)"
   ]
  },
  {
   "attachments": {},
   "cell_type": "markdown",
   "metadata": {},
   "source": [
    "# Grid Search 돌려서 결과 확인하기"
   ]
  },
  {
   "attachments": {},
   "cell_type": "markdown",
   "metadata": {},
   "source": [
    "## 아래 코드로 최종 Grid Search찾으면 모델 돌려서 결과보기"
   ]
  },
  {
   "cell_type": "code",
   "execution_count": null,
   "metadata": {},
   "outputs": [],
   "source": [
    "import tensorflow as tf\n",
    "from tensorflow.keras.regularizers import l1 as l1_regularizer, l2 as l2_regularizer\n",
    "\n",
    "\n",
    "def create_optimized_model():\n",
    "    input_layer = tf.keras.Input(shape=(len(train_x.columns),))\n",
    "    x = tf.keras.layers.BatchNormalization(epsilon=0.00001)(input_layer)\n",
    "    x = tf.keras.layers.Dense(16, activation='relu', kernel_regularizer=l1_regularizer(0.001))(x)\n",
    "    x = tf.keras.layers.Dense(32, activation='relu', kernel_regularizer=l2_regularizer(0.001))(x)\n",
    "    output_layer = tf.keras.layers.Dense(1)(x)\n",
    "    \n",
    "    model = tf.keras.Model(inputs=input_layer, outputs=output_layer)\n",
    "    model.compile(optimizer=tf.keras.optimizers.Adam(0.001),\n",
    "                  loss=loss_fn,\n",
    "                  metrics=[metric_fn])\n",
    "    return model\n",
    "\n",
    "# 최적화된 모델 생성\n",
    "optimized_model = create_optimized_model()\n",
    "\n",
    "# 모델 학습\n",
    "history = optimized_model.fit(train_x.astype('float32'), train_y.astype('float32'),\n",
    "                              epochs=100, batch_size=32, verbose=1,\n",
    "                              validation_split=0.1, callbacks=callbacks_list)\n"
   ]
  }
 ],
 "metadata": {
  "kernelspec": {
   "display_name": "Python 3",
   "language": "python",
   "name": "python3"
  },
  "language_info": {
   "codemirror_mode": {
    "name": "ipython",
    "version": 3
   },
   "file_extension": ".py",
   "mimetype": "text/x-python",
   "name": "python",
   "nbconvert_exporter": "python",
   "pygments_lexer": "ipython3",
   "version": "3.7.9"
  },
  "orig_nbformat": 4
 },
 "nbformat": 4,
 "nbformat_minor": 2
}
