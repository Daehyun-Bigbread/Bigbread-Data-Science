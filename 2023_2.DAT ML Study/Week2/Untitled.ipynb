{
 "cells": [
  {
   "cell_type": "code",
   "execution_count": 1,
   "id": "62a651d7",
   "metadata": {},
   "outputs": [],
   "source": [
    "import requests\n",
    "from bs4 import BeautifulSoup"
   ]
  },
  {
   "cell_type": "code",
   "execution_count": 6,
   "id": "00a866a7",
   "metadata": {},
   "outputs": [],
   "source": [
    "# 웹 페이지의 URL\n",
    "url = \"https://sports.news.naver.com/news?oid=117&aid=0003772675\"\n",
    "\n",
    "# 웹 페이지에 GET 요청을 보내서 HTML 데이터 가져오기\n",
    "response = requests.get(url)"
   ]
  },
  {
   "cell_type": "code",
   "execution_count": 7,
   "id": "e7fdae52",
   "metadata": {},
   "outputs": [
    {
     "name": "stdout",
     "output_type": "stream",
     "text": [
      "기사제공 마이데일리\n",
      "수원=김건호 기자(rjsgh2233@mydaily.co.kr)\n",
      "김건호 기자의 구독을 취소하시겠습니까?구독에서 해당 기자의 기사가 제외됩니다.\n",
      "Copyright ⓒ 마이데일리. All rights reserved. 무단 전재 및 재배포 금지.\n",
      "스포츠 기사 섹션(종목) 정보는 언론사 분류와 기술 기반의 자동 분류 시스템을 따르고 있습니다. 오분류에 대한 건은 네이버스포츠로 제보 부탁드립니다.\n",
      "\n",
      "모두에게 보여주고 싶은 기사라면?beta\n",
      "\n",
      "이 기사를 추천합니다 버튼을 눌러주세요. 집계 기간 동안 추천을 많이 받은 기사는 네이버 자동 기사배열 영역에 추천 요소로 활용됩니다.\n",
      "\n",
      "레이어 닫기\n",
      "\n",
      "\n",
      "\n",
      "이 기사는 모바일 메인 스포츠판에 노출된 이력이 있습니다.\n",
      "\n",
      "\n",
      "\n",
      "\n",
      "이 기사는 사용자 추천으로 모바일 메인 스포츠판에 노출된 이력이 있습니다.\n",
      "\n",
      "\n",
      "최근 한 달 기사 중 오후 6시 ~ 7시까지 집계한 조회 수입니다. 총 누적과 다를 수 있습니다.\n",
      "영상 조회수는 총 누적 재생수를 표기합니다.\n",
      "본 콘텐츠의 저작권은 제공처 또는 네이버에 있으며, 이를 무단 이용하는 경우 저작권법 등에 따라 법적 책임을 질 수 있습니다.\n"
     ]
    }
   ],
   "source": [
    "# HTTP 요청이 성공했는지 확인\n",
    "if response.status_code == 200:\n",
    "    # BeautifulSoup을 사용하여 HTML 파싱\n",
    "    soup = BeautifulSoup(response.text, 'html.parser')\n",
    "\n",
    "    # 원하는 요소를 선택하여 텍스트 추출\n",
    "    # 예를 들어, 모든 <p> 태그 안의 텍스트를 추출하려면 다음과 같이 할 수 있습니다.\n",
    "    paragraphs = soup.find_all('p')\n",
    "\n",
    "#    text=[]\n",
    "    for paragraph in paragraphs:\n",
    "        print(paragraph.get_text())\n",
    "#        text=[paragraph.get_text()]\n",
    "else:\n",
    "    print(\"HTTP 요청 실패\")"
   ]
  },
  {
   "cell_type": "code",
   "execution_count": null,
   "id": "66dbded5",
   "metadata": {},
   "outputs": [],
   "source": []
  }
 ],
 "metadata": {
  "kernelspec": {
   "display_name": "Python 3 (ipykernel)",
   "language": "python",
   "name": "python3"
  },
  "language_info": {
   "codemirror_mode": {
    "name": "ipython",
    "version": 3
   },
   "file_extension": ".py",
   "mimetype": "text/x-python",
   "name": "python",
   "nbconvert_exporter": "python",
   "pygments_lexer": "ipython3",
   "version": "3.11.4"
  }
 },
 "nbformat": 4,
 "nbformat_minor": 5
}
