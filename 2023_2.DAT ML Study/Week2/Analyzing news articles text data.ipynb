{
 "cells": [
  {
   "cell_type": "code",
   "execution_count": 17,
   "id": "b9f73b69",
   "metadata": {
    "scrolled": true
   },
   "outputs": [
    {
     "name": "stdout",
     "output_type": "stream",
     "text": [
      "Collecting webdriver_manager\n",
      "  Obtaining dependency information for webdriver_manager from https://files.pythonhosted.org/packages/19/5a/a16653bfce685c9832217d377f52065351eeac9862e44e2996cd81f3bb4d/webdriver_manager-4.0.0-py2.py3-none-any.whl.metadata\n",
      "  Downloading webdriver_manager-4.0.0-py2.py3-none-any.whl.metadata (11 kB)\n",
      "Requirement already satisfied: requests in /Users/daehyunkim/anaconda3/lib/python3.11/site-packages (from webdriver_manager) (2.31.0)\n",
      "Collecting python-dotenv (from webdriver_manager)\n",
      "  Downloading python_dotenv-1.0.0-py3-none-any.whl (19 kB)\n",
      "Requirement already satisfied: packaging in /Users/daehyunkim/anaconda3/lib/python3.11/site-packages (from webdriver_manager) (23.1)\n",
      "Requirement already satisfied: charset-normalizer<4,>=2 in /Users/daehyunkim/anaconda3/lib/python3.11/site-packages (from requests->webdriver_manager) (2.0.4)\n",
      "Requirement already satisfied: idna<4,>=2.5 in /Users/daehyunkim/anaconda3/lib/python3.11/site-packages (from requests->webdriver_manager) (3.4)\n",
      "Requirement already satisfied: urllib3<3,>=1.21.1 in /Users/daehyunkim/anaconda3/lib/python3.11/site-packages (from requests->webdriver_manager) (1.26.16)\n",
      "Requirement already satisfied: certifi>=2017.4.17 in /Users/daehyunkim/anaconda3/lib/python3.11/site-packages (from requests->webdriver_manager) (2023.7.22)\n",
      "Downloading webdriver_manager-4.0.0-py2.py3-none-any.whl (27 kB)\n",
      "Installing collected packages: python-dotenv, webdriver_manager\n",
      "Successfully installed python-dotenv-1.0.0 webdriver_manager-4.0.0\n",
      "Note: you may need to restart the kernel to use updated packages.\n"
     ]
    }
   ],
   "source": [
    "pip install webdriver_manager"
   ]
  },
  {
   "cell_type": "code",
   "execution_count": 40,
   "id": "d5f2b54b",
   "metadata": {},
   "outputs": [],
   "source": [
    "#셀레니옴 기본 설정 코드\n",
    "from selenium import webdriver\n",
    "from selenium.webdriver.chrome.options import Options\n",
    "from webdriver_manager.chrome import ChromeDriverManager\n",
    "from selenium.webdriver.common.keys import Keys\n",
    "import time\n",
    "import json\n",
    "from selenium.webdriver.common.by import By\n",
    "from selenium.webdriver.support.ui import WebDriverWait\n",
    "from selenium.webdriver.support import expected_conditions as EC\n",
    "import csv\n",
    "from selenium.common.exceptions import NoSuchElementException\n",
    "from selenium.common.exceptions import NoSuchWindowException\n",
    "from selenium.common.exceptions import TimeoutException\n",
    "from selenium.webdriver.common.by import By\n",
    "from selenium.webdriver.support.ui import WebDriverWait\n",
    "from selenium.webdriver.support import expected_conditions as EC\n",
    "from selenium.common.exceptions import NoSuchElementException, TimeoutException, StaleElementReferenceException\n",
    "import requests"
   ]
  },
  {
   "cell_type": "code",
   "execution_count": 52,
   "id": "c12e325a",
   "metadata": {},
   "outputs": [],
   "source": [
    "url = \"https://n.news.naver.com/mnews/article/001/0014206311?rc=N&ntype=RANKING\""
   ]
  },
  {
   "cell_type": "code",
   "execution_count": 53,
   "id": "bd5afd06",
   "metadata": {},
   "outputs": [],
   "source": [
    "options = Options()\n",
    "options.add_argument('user-agent=Mozilla/5.0 (Windows NT 10.0; Win64; x64) AppleWebKit/537.36 (KHTML, like Gecko) Chrome/115.0.0.0 Safari/537.36') #인간이라는 user-agent 제공\n",
    "driver = webdriver.Chrome(options=options)\n",
    "driver.get(url)\n",
    "driver.maximize_window()\n",
    "driver.implicitly_wait(10) #페이지 로딩 전 10초 기다리기"
   ]
  },
  {
   "cell_type": "code",
   "execution_count": 54,
   "id": "5f33dd13",
   "metadata": {},
   "outputs": [
    {
     "name": "stdout",
     "output_type": "stream",
     "text": [
      "李 '사실상 부결 요청'에 민주 부결로 쏠리나…與 \"국민이 심판\"\n",
      "노란봉투법까지 강행시 여야 극한대치 가능성\n",
      "\n",
      "\n",
      "교섭단체 연설하는 윤재옥 원내대표\n",
      "(서울=연합뉴스) 한상균 기자 = 국민의힘 윤재옥 원내대표 20일 국회 본회의에서 교섭단체 대표 연설을 하고 있다. 2023.9.20 xyz@yna.co.kr\n",
      "\n",
      "\n",
      "(서울=연합뉴스) 이유미 기자 = 더불어민주당 이재명 대표에 대한 두 번째 체포동의안이 20일 국회 본회의에 보고되면서 체포안 표결을 하루 앞둔 정치권에 전운이 감돌고 있다.\n",
      "\n",
      "21일 본회의에서 체포동의안이 가결되든, 부결되든 정국은 혼란과 갈등이 불가피하다.\n",
      "\n",
      "부결될 경우 이 대표의 향후 운명을 놓고 여야 간 대치 정국이 한층 가팔라질 것으로 보인다. 가결 시에는 민주당이 리더십 부재와 내홍 격화로 대혼돈을 맞을 가능성이 있다.\n",
      "\n",
      "총선이 7개월 앞으로 다가온 가운데 이번 표결 결과가 추석 민심은 물론, 여야의 총선 전략과 지도부 쇄신론 등에 중대 변곡점이 될 것이란 전망이 나온다.\n",
      "\n",
      "여기에 한덕수 국무총리 해임건의안 표결과 '노란봉투법'·'방송법' 강행 추진에 따른 필리버스터(무제한 토론을 통한 합법적 의사진행 방해) 정국까지 더해지면서 여야가 출구 없는 대립 상황으로 빠져들 가능성이 크다.\n",
      "\n",
      "여야는 이날 오전 국회에 이 대표 체포동의안이 보고되자 일제히 내부 표 단속에 나섰다.\n",
      "\n",
      "민주당에서 친명계를 중심으로 부결 여론이 확산하는 가운데 이 대표는 이날 직접 페이스북에서 \"검찰 독재의 폭주 기관차를 국회 앞에서 멈춰 세워달라\"며 사실상 부결 요청 메시지를 보냈다.\n",
      "\n",
      "이에 따라 민주당 의원들의 표가 부결로 쏠릴지 주목된다. 이날 오후 의원총회에서는 부결해야 한다고 의견을 밝히는 의원들이 상당수였다. 그러나 무기명 투표인 만큼 최종적으로 비명계 이탈표가 얼마나 나올지는 미지수다.\n",
      "\n",
      "국민의힘은 이 대표의 페이스북 글을 두고 \"불체포특권 포기 약속을 헌신짝처럼 버렸다\"고 비판했다. 그러면서 당내 의원 전원에게 표결 참여를 요청하는 한편, 민주당 이탈표 규모에 촉각을 곤두세우고 있다.\n",
      "\n",
      "국민의힘 의원총회\n",
      "(서울=연합뉴스) 이정훈 기자 = 국민의힘 윤재옥 원내대표가 20일 국회에서 열린 의원총회에서 국기에 경례하고 있다. 2023.9.20 uwg806@yna.co.kr\n",
      "\n",
      "\n",
      "이 대표 체포동의안은 재적의원 과반 출석에 출석 의원 과반 찬성이 가결 요건이다.\n",
      "\n",
      "현재 재적 의원은 297명으로, 병상에 있는 이 대표, 수감 중인 무소속 윤관석 의원, 해외 순방 중인 박진 장관을 제외하고 294명 전원이 출석한다면 가결 정족수는 148표다.\n",
      "\n",
      "국민의힘과 정의당, 범여권 성향 의원 120명에 더해 민주당에서 이탈표가 28표 이상 나오면 체포동의안이 가결될 수 있다.\n",
      "\n",
      "만일 가결될 경우 민주당으로선 친명계와 비명계 간 갈등 격화, 강성 지지자들의 항의 등 후폭풍이 우려되는 상황이다.\n",
      "\n",
      "법원이 영장을 실제로 발부하면 이 대표의 부재 속에 비명계를 중심으로 한 당 쇄신 요구가 분출할 것으로 보인다.\n",
      "\n",
      "국민의힘은 민주당 지도 체제가 타격을 받고 계파 갈등이 격화하면서 반사이익을 얻을 수 있다는 전망이 있다. 하지만 만일 법원이 영장을 기각한다면 역풍 가능성을 포함, 집권당으로서 정국을 이끄는 데 상당한 부담을 안게될 수 있다.\n",
      "\n",
      "부결될 경우 이 대표는 구속을 면하고 강성 지지자들의 결집은 이끌 수 있겠지만, 민주당은 중도층의 민심을 잃는 등 정치적 역풍을 맞을 수 있다. 국회에서 대표 수호를 위해 다수당 이점을 활용한 방탄 전략을 이어갔다는 비판에 직면할 수 있어서다. 이 경우에도 비명계의 반발이 나올 수 있어 계파 갈등은 사그라들기 어려운 상황이다.\n",
      "\n",
      "이 대표가 단식을 마치고 정기국회 무대로 복귀하면서 민주당은 전열을 가다듬고, 국민의힘은 '야당 심판론'을 내세워 민주당을 향한 공세 수위를 바짝 올릴 것으로 보인다.\n",
      "\n",
      "조정식 사무총장과 대화하는 박광온 원내대표\n",
      "(서울=연합뉴스) 이정훈 기자 = 더불어민주당 박광온 원내대표가 20일 국회에서 열린 비공개 의원총회에서 조정식 사무총장과 대화하고 있다. 2023.9.20 uwg806@yna.co.kr\n",
      "\n",
      "\n",
      "한 총리 해임건의안은 재적의원 과반이 찬성해야 통과된다. 이는 민주당의 과반 의석에 힘입어 가결될 가능성이 크다.\n",
      "\n",
      "국민의힘은 \"수용할 수 없는 정치적 공세\"라며 당론으로 반대 표결하거나 본회의에 불참하는 방안을 검토 중이다.\n",
      "\n",
      "다만 한 총리 해임건의안은 통과되더라도 강제성이 없어 윤석열 대통령이 수용하지 않을 것으로 보인다.\n",
      "\n",
      "민주당이 같은 날 본회의에서 '노란봉투법'(노조법 2·3조 개정안)과 '방송 3법'(방송법·방송문화진흥회법·한국교육방송공사법 개정안) 강행 처리를 시도할 가능성이 있다.\n",
      "\n",
      "이날 김진표 국회의장과 국민의힘 윤재옥·민주당 박광온 원내대표 회동에서는 국회의장의 안건 직권상정 여부를 결론짓지 못했다.\n",
      "\n",
      "국민의힘은 안건이 상정되면 필리버스터(무제한 토론을 통한 합법적 의사진행 방해)를 통해 '거대 야당의 입법 폭주'를 비판하겠다는 방침이다. 대통령실은 해당 법안들이 통과될 경우 재의요구권(거부권)을 행사할 것으로 보인다.\n",
      "\n",
      "yumi@yna.co.kr\n"
     ]
    }
   ],
   "source": [
    "#1\n",
    "context = driver.find_element(By.CSS_SELECTOR, \".newsct_article\").text\n",
    "print(context)"
   ]
  },
  {
   "cell_type": "code",
   "execution_count": 65,
   "id": "67aa8f85",
   "metadata": {},
   "outputs": [],
   "source": [
    "import nltk\n",
    "from nltk.tokenize import word_tokenize\n",
    "from nltk.tokenize import WordPunctTokenizer\n",
    "import re"
   ]
  },
  {
   "cell_type": "code",
   "execution_count": 66,
   "id": "3adc6b61",
   "metadata": {},
   "outputs": [
    {
     "name": "stdout",
     "output_type": "stream",
     "text": [
      "['李', \"'사실상\", '부결', '요청', \"'\", '에', '민주', '부결로', '쏠리나…與', '``', '국민이', '심판', \"''\", '노란봉투법까지', '강행시', '여야', '극한대치', '가능성', '교섭단체', '연설하는', '윤재옥', '원내대표', '(', '서울=연합뉴스', ')', '한상균', '기자', '=', '국민의힘', '윤재옥', '원내대표', '20일', '국회', '본회의에서', '교섭단체', '대표', '연설을', '하고', '있다', '.', '2023.9.20', 'xyz', '@', 'yna.co.kr', '(', '서울=연합뉴스', ')', '이유미', '기자', '=', '더불어민주당', '이재명', '대표에', '대한', '두', '번째', '체포동의안이', '20일', '국회', '본회의에', '보고되면서', '체포안', '표결을', '하루', '앞둔', '정치권에', '전운이', '감돌고', '있다', '.', '21일', '본회의에서', '체포동의안이', '가결되든', ',', '부결되든', '정국은', '혼란과', '갈등이', '불가피하다', '.', '부결될', '경우', '이', '대표의', '향후', '운명을', '놓고', '여야', '간', '대치', '정국이', '한층', '가팔라질', '것으로', '보인다', '.', '가결', '시에는', '민주당이', '리더십', '부재와', '내홍', '격화로', '대혼돈을', '맞을', '가능성이', '있다', '.', '총선이', '7개월', '앞으로', '다가온', '가운데', '이번', '표결', '결과가', '추석', '민심은', '물론', ',', '여야의', '총선', '전략과', '지도부', '쇄신론', '등에', '중대', '변곡점이', '될', '것이란', '전망이', '나온다', '.', '여기에', '한덕수', '국무총리', '해임건의안', '표결과', \"'노란봉투법'·'방송법\", \"'\", '강행', '추진에', '따른', '필리버스터', '(', '무제한', '토론을', '통한', '합법적', '의사진행', '방해', ')', '정국까지', '더해지면서', '여야가', '출구', '없는', '대립', '상황으로', '빠져들', '가능성이', '크다', '.', '여야는', '이날', '오전', '국회에', '이', '대표', '체포동의안이', '보고되자', '일제히', '내부', '표', '단속에', '나섰다', '.', '민주당에서', '친명계를', '중심으로', '부결', '여론이', '확산하는', '가운데', '이', '대표는', '이날', '직접', '페이스북에서', '``', '검찰', '독재의', '폭주', '기관차를', '국회', '앞에서', '멈춰', '세워달라', \"''\", '며', '사실상', '부결', '요청', '메시지를', '보냈다', '.', '이에', '따라', '민주당', '의원들의', '표가', '부결로', '쏠릴지', '주목된다', '.', '이날', '오후', '의원총회에서는', '부결해야', '한다고', '의견을', '밝히는', '의원들이', '상당수였다', '.', '그러나', '무기명', '투표인', '만큼', '최종적으로', '비명계', '이탈표가', '얼마나', '나올지는', '미지수다', '.', '국민의힘은', '이', '대표의', '페이스북', '글을', '두고', '``', '불체포특권', '포기', '약속을', '헌신짝처럼', '버렸다', \"''\", '고', '비판했다', '.', '그러면서', '당내', '의원', '전원에게', '표결', '참여를', '요청하는', '한편', ',', '민주당', '이탈표', '규모에', '촉각을', '곤두세우고', '있다', '.', '국민의힘', '의원총회', '(', '서울=연합뉴스', ')', '이정훈', '기자', '=', '국민의힘', '윤재옥', '원내대표가', '20일', '국회에서', '열린', '의원총회에서', '국기에', '경례하고', '있다', '.', '2023.9.20', 'uwg806', '@', 'yna.co.kr', '이', '대표', '체포동의안은', '재적의원', '과반', '출석에', '출석', '의원', '과반', '찬성이', '가결', '요건이다', '.', '현재', '재적', '의원은', '297명으로', ',', '병상에', '있는', '이', '대표', ',', '수감', '중인', '무소속', '윤관석', '의원', ',', '해외', '순방', '중인', '박진', '장관을', '제외하고', '294명', '전원이', '출석한다면', '가결', '정족수는', '148표다', '.', '국민의힘과', '정의당', ',', '범여권', '성향', '의원', '120명에', '더해', '민주당에서', '이탈표가', '28표', '이상', '나오면', '체포동의안이', '가결될', '수', '있다', '.', '만일', '가결될', '경우', '민주당으로선', '친명계와', '비명계', '간', '갈등', '격화', ',', '강성', '지지자들의', '항의', '등', '후폭풍이', '우려되는', '상황이다', '.', '법원이', '영장을', '실제로', '발부하면', '이', '대표의', '부재', '속에', '비명계를', '중심으로', '한', '당', '쇄신', '요구가', '분출할', '것으로', '보인다', '.', '국민의힘은', '민주당', '지도', '체제가', '타격을', '받고', '계파', '갈등이', '격화하면서', '반사이익을', '얻을', '수', '있다는', '전망이', '있다', '.', '하지만', '만일', '법원이', '영장을', '기각한다면', '역풍', '가능성을', '포함', ',', '집권당으로서', '정국을', '이끄는', '데', '상당한', '부담을', '안게될', '수', '있다', '.', '부결될', '경우', '이', '대표는', '구속을', '면하고', '강성', '지지자들의', '결집은', '이끌', '수', '있겠지만', ',', '민주당은', '중도층의', '민심을', '잃는', '등', '정치적', '역풍을', '맞을', '수', '있다', '.', '국회에서', '대표', '수호를', '위해', '다수당', '이점을', '활용한', '방탄', '전략을', '이어갔다는', '비판에', '직면할', '수', '있어서다', '.', '이', '경우에도', '비명계의', '반발이', '나올', '수', '있어', '계파', '갈등은', '사그라들기', '어려운', '상황이다', '.', '이', '대표가', '단식을', '마치고', '정기국회', '무대로', '복귀하면서', '민주당은', '전열을', '가다듬고', ',', '국민의힘은', \"'야당\", '심판론', \"'\", '을', '내세워', '민주당을', '향한', '공세', '수위를', '바짝', '올릴', '것으로', '보인다', '.', '조정식', '사무총장과', '대화하는', '박광온', '원내대표', '(', '서울=연합뉴스', ')', '이정훈', '기자', '=', '더불어민주당', '박광온', '원내대표가', '20일', '국회에서', '열린', '비공개', '의원총회에서', '조정식', '사무총장과', '대화하고', '있다', '.', '2023.9.20', 'uwg806', '@', 'yna.co.kr', '한', '총리', '해임건의안은', '재적의원', '과반이', '찬성해야', '통과된다', '.', '이는', '민주당의', '과반', '의석에', '힘입어', '가결될', '가능성이', '크다', '.', '국민의힘은', '``', '수용할', '수', '없는', '정치적', '공세', \"''\", '라며', '당론으로', '반대', '표결하거나', '본회의에', '불참하는', '방안을', '검토', '중이다', '.', '다만', '한', '총리', '해임건의안은', '통과되더라도', '강제성이', '없어', '윤석열', '대통령이', '수용하지', '않을', '것으로', '보인다', '.', '민주당이', '같은', '날', '본회의에서', \"'노란봉투법\", \"'\", '(', '노조법', '2·3조', '개정안', ')', '과', \"'방송\", '3법', \"'\", '(', '방송법·방송문화진흥회법·한국교육방송공사법', '개정안', ')', '강행', '처리를', '시도할', '가능성이', '있다', '.', '이날', '김진표', '국회의장과', '국민의힘', '윤재옥·민주당', '박광온', '원내대표', '회동에서는', '국회의장의', '안건', '직권상정', '여부를', '결론짓지', '못했다', '.', '국민의힘은', '안건이', '상정되면', '필리버스터', '(', '무제한', '토론을', '통한', '합법적', '의사진행', '방해', ')', '를', '통해', \"'거대\", '야당의', '입법', '폭주', \"'\", '를', '비판하겠다는', '방침이다', '.', '대통령실은', '해당', '법안들이', '통과될', '경우', '재의요구권', '(', '거부권', ')', '을', '행사할', '것으로', '보인다', '.', 'yumi', '@', 'yna.co.kr']\n"
     ]
    }
   ],
   "source": [
    "# 2\n",
    "print(word_tokenize(context))\n",
    "context_tokenize = word_tokenize(context)"
   ]
  },
  {
   "cell_type": "code",
   "execution_count": 69,
   "id": "2466a067",
   "metadata": {},
   "outputs": [],
   "source": [
    "from nltk import FreqDist"
   ]
  },
  {
   "cell_type": "code",
   "execution_count": 77,
   "id": "f0038fd2",
   "metadata": {},
   "outputs": [
    {
     "data": {
      "text/plain": [
       "['李',\n",
       " \"'사실상\",\n",
       " '부결',\n",
       " '요청',\n",
       " '민주',\n",
       " '부결로',\n",
       " '쏠리나…與',\n",
       " '국민이',\n",
       " '심판',\n",
       " '노란봉투법까지',\n",
       " '강행시',\n",
       " '여야',\n",
       " '극한대치',\n",
       " '가능성',\n",
       " Ellipsis]"
      ]
     },
     "execution_count": 77,
     "metadata": {},
     "output_type": "execute_result"
    }
   ],
   "source": [
    "# 3\n",
    "# 불용어 리스트 정의\n",
    "stopwords = ['의', '가', '이', '은', '들', '는', '좀', '잘', '걍', '과', '도', '를', '으로', '자', '에', '와', '한', '하다', '이다', '로', '등', '에서', '으로', '고', '며', '한', '다', '와', '에', '으로', '로', '·', '…', '@', '=', '(', ')', '``', \"''\", 'xyz', 'uwg806', 'yumi', 'yna.co.kr', '2023.9.20', \".\", \"(\", \")\", \"\\'\", '(', ')', \"'\", '.', ',', '!', '?', '‘', '’','``',\"''\"]\n",
    "\n",
    "# 불용어 리스트 생성\n",
    "filtered_words = [word for word in text_data if word not in stopwords]\n",
    "\n",
    "filtered_words"
   ]
  },
  {
   "cell_type": "code",
   "execution_count": 79,
   "id": "a1fc3329",
   "metadata": {},
   "outputs": [
    {
     "name": "stdout",
     "output_type": "stream",
     "text": [
      "[('있다', 11), ('이', 10), ('수', 8), ('대표', 5), ('것으로', 5), ('보인다', 5), ('국민의힘은', 5), ('``', 4), (\"''\", 4), ('원내대표', 4)]\n"
     ]
    }
   ],
   "source": [
    "freq_context = FreqDist(filtered_context_len)\n",
    "print(freq_context.most_common(10))"
   ]
  },
  {
   "cell_type": "code",
   "execution_count": 80,
   "id": "b0caaca7",
   "metadata": {},
   "outputs": [
    {
     "data": {
      "text/plain": [
       "588"
      ]
     },
     "execution_count": 80,
     "metadata": {},
     "output_type": "execute_result"
    }
   ],
   "source": [
    "# 4\n",
    "len(filtered_context_len) #뉴스 기사의 길이 계산"
   ]
  },
  {
   "cell_type": "code",
   "execution_count": 82,
   "id": "1a890ed6",
   "metadata": {},
   "outputs": [
    {
     "data": {
      "text/plain": [
       "['李 \\'사실상 부결 요청\\'에 민주 부결로 쏠리나…與 \"국민이 심판\" 노란봉투법까지 강행시 여야 극한대치 가능성   교섭단체 연설하는 윤재옥 원내대표 (서울=연합뉴스) 한상균 기자 = 국민의힘 윤재옥 원내대표 20일 국회 본회의에서 교섭단체 대표 연설을 하고 있다',\n",
       " '2023',\n",
       " '9',\n",
       " '20 xyz@yna',\n",
       " 'co',\n",
       " 'kr   (서울=연합뉴스) 이유미 기자 = 더불어민주당 이재명 대표에 대한 두 번째 체포동의안이 20일 국회 본회의에 보고되면서 체포안 표결을 하루 앞둔 정치권에 전운이 감돌고 있다',\n",
       " '21일 본회의에서 체포동의안이 가결되든, 부결되든 정국은 혼란과 갈등이 불가피하다',\n",
       " '부결될 경우 이 대표의 향후 운명을 놓고 여야 간 대치 정국이 한층 가팔라질 것으로 보인다',\n",
       " '가결 시에는 민주당이 리더십 부재와 내홍 격화로 대혼돈을 맞을 가능성이 있다',\n",
       " '총선이 7개월 앞으로 다가온 가운데 이번 표결 결과가 추석 민심은 물론, 여야의 총선 전략과 지도부 쇄신론 등에 중대 변곡점이 될 것이란 전망이 나온다',\n",
       " \"여기에 한덕수 국무총리 해임건의안 표결과 '노란봉투법'·'방송법' 강행 추진에 따른 필리버스터(무제한 토론을 통한 합법적 의사진행 방해) 정국까지 더해지면서 여야가 출구 없는 대립 상황으로 빠져들 가능성이 크다\",\n",
       " '여야는 이날 오전 국회에 이 대표 체포동의안이 보고되자 일제히 내부 표 단속에 나섰다',\n",
       " '민주당에서 친명계를 중심으로 부결 여론이 확산하는 가운데 이 대표는 이날 직접 페이스북에서 \"검찰 독재의 폭주 기관차를 국회 앞에서 멈춰 세워달라\"며 사실상 부결 요청 메시지를 보냈다',\n",
       " '이에 따라 민주당 의원들의 표가 부결로 쏠릴지 주목된다',\n",
       " '이날 오후 의원총회에서는 부결해야 한다고 의견을 밝히는 의원들이 상당수였다',\n",
       " '그러나 무기명 투표인 만큼 최종적으로 비명계 이탈표가 얼마나 나올지는 미지수다',\n",
       " '국민의힘은 이 대표의 페이스북 글을 두고 \"불체포특권 포기 약속을 헌신짝처럼 버렸다\"고 비판했다',\n",
       " '그러면서 당내 의원 전원에게 표결 참여를 요청하는 한편, 민주당 이탈표 규모에 촉각을 곤두세우고 있다',\n",
       " '국민의힘 의원총회 (서울=연합뉴스) 이정훈 기자 = 국민의힘 윤재옥 원내대표가 20일 국회에서 열린 의원총회에서 국기에 경례하고 있다',\n",
       " '2023',\n",
       " '9',\n",
       " '20 uwg806@yna',\n",
       " 'co',\n",
       " 'kr   이 대표 체포동의안은 재적의원 과반 출석에 출석 의원 과반 찬성이 가결 요건이다',\n",
       " '현재 재적 의원은 297명으로, 병상에 있는 이 대표, 수감 중인 무소속 윤관석 의원, 해외 순방 중인 박진 장관을 제외하고 294명 전원이 출석한다면 가결 정족수는 148표다',\n",
       " '국민의힘과 정의당, 범여권 성향 의원 120명에 더해 민주당에서 이탈표가 28표 이상 나오면 체포동의안이 가결될 수 있다',\n",
       " '만일 가결될 경우 민주당으로선 친명계와 비명계 간 갈등 격화, 강성 지지자들의 항의 등 후폭풍이 우려되는 상황이다',\n",
       " '법원이 영장을 실제로 발부하면 이 대표의 부재 속에 비명계를 중심으로 한 당 쇄신 요구가 분출할 것으로 보인다',\n",
       " '국민의힘은 민주당 지도 체제가 타격을 받고 계파 갈등이 격화하면서 반사이익을 얻을 수 있다는 전망이 있다',\n",
       " '하지만 만일 법원이 영장을 기각한다면 역풍 가능성을 포함, 집권당으로서 정국을 이끄는 데 상당한 부담을 안게될 수 있다',\n",
       " '부결될 경우 이 대표는 구속을 면하고 강성 지지자들의 결집은 이끌 수 있겠지만, 민주당은 중도층의 민심을 잃는 등 정치적 역풍을 맞을 수 있다',\n",
       " '국회에서 대표 수호를 위해 다수당 이점을 활용한 방탄 전략을 이어갔다는 비판에 직면할 수 있어서다',\n",
       " '이 경우에도 비명계의 반발이 나올 수 있어 계파 갈등은 사그라들기 어려운 상황이다',\n",
       " \"이 대표가 단식을 마치고 정기국회 무대로 복귀하면서 민주당은 전열을 가다듬고, 국민의힘은 '야당 심판론'을 내세워 민주당을 향한 공세 수위를 바짝 올릴 것으로 보인다\",\n",
       " '조정식 사무총장과 대화하는 박광온 원내대표 (서울=연합뉴스) 이정훈 기자 = 더불어민주당 박광온 원내대표가 20일 국회에서 열린 비공개 의원총회에서 조정식 사무총장과 대화하고 있다',\n",
       " '2023',\n",
       " '9',\n",
       " '20 uwg806@yna',\n",
       " 'co',\n",
       " 'kr   한 총리 해임건의안은 재적의원 과반이 찬성해야 통과된다',\n",
       " '이는 민주당의 과반 의석에 힘입어 가결될 가능성이 크다',\n",
       " '국민의힘은 \"수용할 수 없는 정치적 공세\"라며 당론으로 반대 표결하거나 본회의에 불참하는 방안을 검토 중이다',\n",
       " '다만 한 총리 해임건의안은 통과되더라도 강제성이 없어 윤석열 대통령이 수용하지 않을 것으로 보인다',\n",
       " \"민주당이 같은 날 본회의에서 '노란봉투법'(노조법 2·3조 개정안)과 '방송 3법'(방송법·방송문화진흥회법·한국교육방송공사법 개정안) 강행 처리를 시도할 가능성이 있다\",\n",
       " '이날 김진표 국회의장과 국민의힘 윤재옥·민주당 박광온 원내대표 회동에서는 국회의장의 안건 직권상정 여부를 결론짓지 못했다',\n",
       " \"국민의힘은 안건이 상정되면 필리버스터(무제한 토론을 통한 합법적 의사진행 방해)를 통해 '거대 야당의 입법 폭주'를 비판하겠다는 방침이다\",\n",
       " '대통령실은 해당 법안들이 통과될 경우 재의요구권(거부권)을 행사할 것으로 보인다',\n",
       " 'yumi@yna',\n",
       " 'co',\n",
       " 'kr']"
      ]
     },
     "execution_count": 82,
     "metadata": {},
     "output_type": "execute_result"
    }
   ],
   "source": [
    "sentences = context.split('.')\n",
    "len_stopwords = \"\\n\"\n",
    "filtered_contexts = []\n",
    "for sentence in sentences:\n",
    "    sentence = sentence.replace(len_stopwords, \" \")\n",
    "    filtered_contexts.append(sentence.strip())\n",
    "filtered_contexts"
   ]
  },
  {
   "cell_type": "code",
   "execution_count": 83,
   "id": "60e700ad",
   "metadata": {},
   "outputs": [],
   "source": [
    "filtered_contexts = filtered_contexts[:-2] #위 처럼 빈난새기자 ,com과 같은 값은 없앰"
   ]
  },
  {
   "cell_type": "code",
   "execution_count": 84,
   "id": "0a02d9bc",
   "metadata": {},
   "outputs": [
    {
     "data": {
      "text/plain": [
       "[145,\n",
       " 4,\n",
       " 1,\n",
       " 10,\n",
       " 2,\n",
       " 101,\n",
       " 45,\n",
       " 50,\n",
       " 42,\n",
       " 84,\n",
       " 117,\n",
       " 47,\n",
       " 102,\n",
       " 30,\n",
       " 41,\n",
       " 43,\n",
       " 53,\n",
       " 56,\n",
       " 74,\n",
       " 4,\n",
       " 1,\n",
       " 13,\n",
       " 2,\n",
       " 49,\n",
       " 98,\n",
       " 67,\n",
       " 63,\n",
       " 61,\n",
       " 58,\n",
       " 66,\n",
       " 79,\n",
       " 54,\n",
       " 45,\n",
       " 92,\n",
       " 100,\n",
       " 4,\n",
       " 1,\n",
       " 13,\n",
       " 2,\n",
       " 35,\n",
       " 30,\n",
       " 60,\n",
       " 54,\n",
       " 93,\n",
       " 67,\n",
       " 76,\n",
       " 44,\n",
       " 8]"
      ]
     },
     "execution_count": 84,
     "metadata": {},
     "output_type": "execute_result"
    }
   ],
   "source": [
    "sentence_len =[]\n",
    "sentence_total = 0\n",
    "for sentence in filtered_contexts:\n",
    "    sentence_len.append(len(sentence))\n",
    "    sentence_total += len(sentence)\n",
    "sentence_len"
   ]
  },
  {
   "cell_type": "code",
   "execution_count": 86,
   "id": "1ef706d0",
   "metadata": {},
   "outputs": [
    {
     "data": {
      "text/plain": [
       "49.708333333333336"
      ]
     },
     "execution_count": 86,
     "metadata": {},
     "output_type": "execute_result"
    }
   ],
   "source": [
    "sentence_total / len(sentence_len)"
   ]
  },
  {
   "cell_type": "code",
   "execution_count": 88,
   "id": "ff7a76d0",
   "metadata": {},
   "outputs": [
    {
     "name": "stdout",
     "output_type": "stream",
     "text": [
      "positive: 5\n",
      "negative: 14\n"
     ]
    }
   ],
   "source": [
    "# 6\n",
    "positive_words = [\"심판\", \"통과\"]\n",
    "negative_words = [\"부결\", \"극한대치\", \"강행\", \"행사\"]\n",
    "\n",
    "positive_count = 0\n",
    "negative_count = 0\n",
    "\n",
    "for sentence in filtered_contexts:\n",
    "    positive_count += sum(sentence.count(word) for word in positive_words)\n",
    "    negative_count += sum(sentence.count(word) for word in negative_words)\n",
    "\n",
    "print(\"positive:\", positive_count)\n",
    "print(\"negative:\", negative_count)\n"
   ]
  },
  {
   "cell_type": "code",
   "execution_count": 89,
   "id": "7112d987",
   "metadata": {},
   "outputs": [
    {
     "name": "stdout",
     "output_type": "stream",
     "text": [
      "[('있다', 11)]\n"
     ]
    }
   ],
   "source": [
    "#7\n",
    "filtered_context_len = [word for word in context_tokenize if word not in stopwords]\n",
    "freq_context = FreqDist(filtered_context_len)\n",
    "print(freq_context.most_common(1))"
   ]
  }
 ],
 "metadata": {
  "kernelspec": {
   "display_name": "Python 3 (ipykernel)",
   "language": "python",
   "name": "python3"
  },
  "language_info": {
   "codemirror_mode": {
    "name": "ipython",
    "version": 3
   },
   "file_extension": ".py",
   "mimetype": "text/x-python",
   "name": "python",
   "nbconvert_exporter": "python",
   "pygments_lexer": "ipython3",
   "version": "3.11.4"
  }
 },
 "nbformat": 4,
 "nbformat_minor": 5
}
