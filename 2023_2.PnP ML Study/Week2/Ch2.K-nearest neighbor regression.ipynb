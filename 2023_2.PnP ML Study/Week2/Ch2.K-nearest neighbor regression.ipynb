{
 "cells": [
  {
   "cell_type": "markdown",
   "id": "c31ac3bf",
   "metadata": {},
   "source": [
    "### 농어의 길이만 사용"
   ]
  },
  {
   "cell_type": "code",
   "execution_count": 42,
   "id": "99a4c73d",
   "metadata": {},
   "outputs": [],
   "source": [
    "import numpy as np"
   ]
  },
  {
   "cell_type": "code",
   "execution_count": 43,
   "id": "72ed501e",
   "metadata": {},
   "outputs": [],
   "source": [
    "perch_length = np.array([8.4, 13.7, 15.0, 16.2, 17.4, 18.0, 18.7, 19.0, 19.6, 20.0, 21.0,\n",
    "       21.0, 21.0, 21.3, 22.0, 22.0, 22.0, 22.0, 22.0, 22.5, 22.5, 22.7,\n",
    "       23.0, 23.5, 24.0, 24.0, 24.6, 25.0, 25.6, 26.5, 27.3, 27.5, 27.5,\n",
    "       27.5, 28.0, 28.7, 30.0, 32.8, 34.5, 35.0, 36.5, 36.0, 37.0, 37.0,\n",
    "       39.0, 39.0, 39.0, 40.0, 40.0, 40.0, 40.0, 42.0, 43.0, 43.0, 43.5,\n",
    "       44.0])\n",
    "perch_weight = np.array([5.9, 32.0, 40.0, 51.5, 70.0, 100.0, 78.0, 80.0, 85.0, 85.0, 110.0,\n",
    "       115.0, 125.0, 130.0, 120.0, 120.0, 130.0, 135.0, 110.0, 130.0,\n",
    "       150.0, 145.0, 150.0, 170.0, 225.0, 145.0, 188.0, 180.0, 197.0,\n",
    "       218.0, 300.0, 260.0, 265.0, 250.0, 250.0, 300.0, 320.0, 514.0,\n",
    "       556.0, 840.0, 685.0, 700.0, 700.0, 690.0, 900.0, 650.0, 820.0,\n",
    "       850.0, 900.0, 1015.0, 820.0, 1100.0, 1000.0, 1100.0, 1000.0,\n",
    "       1000.0])"
   ]
  },
  {
   "cell_type": "code",
   "execution_count": 44,
   "id": "c0f87779",
   "metadata": {},
   "outputs": [
    {
     "data": {
      "image/png": "[encoded data removed]",
      "text/plain": [
       "<Figure size 640x480 with 1 Axes>"
      ]
     },
     "metadata": {},
     "output_type": "display_data"
    }
   ],
   "source": [
    "import matplotlib.pyplot as plt\n",
    "\n",
    "plt.scatter(perch_length, perch_weight) # perch_weight(target)\n",
    "plt.xlabel('length')\n",
    "plt.ylabel('weight')\n",
    "plt.show()"
   ]
  },
  {
   "cell_type": "markdown",
   "id": "d6c32505",
   "metadata": {},
   "source": [
    "### Training Set 준비"
   ]
  },
  {
   "cell_type": "code",
   "execution_count": 45,
   "id": "07b31406",
   "metadata": {},
   "outputs": [],
   "source": [
    "# 임의의 수치 (농어의 무게 측정)\n",
    "# Scikit-learn 훈련세트는 2차원 배열이여야 함으로, Numpy의 reshape method를 사용해서 2차원으로 봐꿔줌\n",
    "from sklearn.model_selection import train_test_split\n",
    "\n",
    "train_input, test_input, train_target, test_target = train_test_split(perch_length, perch_weight, random_state=42)"
   ]
  },
  {
   "cell_type": "code",
   "execution_count": 46,
   "id": "e4bf1168",
   "metadata": {},
   "outputs": [
    {
     "name": "stdout",
     "output_type": "stream",
     "text": [
      "(4,)\n"
     ]
    }
   ],
   "source": [
    "# test_array의 배열 확인\n",
    "test_array = np.array([1,2,3,4])\n",
    "print(test_array.shape)"
   ]
  },
  {
   "cell_type": "code",
   "execution_count": 48,
   "id": "8f62f55c",
   "metadata": {},
   "outputs": [
    {
     "name": "stdout",
     "output_type": "stream",
     "text": [
      "(2, 2)\n"
     ]
    }
   ],
   "source": [
    "# test_array의 배열 변경 4 -> 2,2\n",
    "test_array = test_array.reshape(2,2)\n",
    "print(test_array.shape)"
   ]
  },
  {
   "cell_type": "code",
   "execution_count": 49,
   "id": "af2fc7a4",
   "metadata": {},
   "outputs": [],
   "source": [
    "# 아래 코드의 주석을 제거하고 실행하면 에러가 발생\n",
    "# 크기가 봐뀐 새로운 배열 반환시, 지정한 크기가 있는 원본 배열에 있는 원소의 개수가 다르면 error가 발생\n",
    "# test_array = test_array.reshape(2,3)"
   ]
  },
  {
   "cell_type": "code",
   "execution_count": 50,
   "id": "2c81bdd5",
   "metadata": {},
   "outputs": [
    {
     "name": "stdout",
     "output_type": "stream",
     "text": [
      "(42, 1) (14, 1)\n"
     ]
    }
   ],
   "source": [
    "train_input = train_input.reshape(-1, 1) # 열이 하나, 남은 차원의 개수는 하나가 된다.\n",
    "test_input = test_input.reshape(-1, 1)\n",
    "print(train_input.shape, test_input.shape)"
   ]
  },
  {
   "cell_type": "markdown",
   "id": "e1145633",
   "metadata": {},
   "source": [
    "### 회귀 모델 훈련\n",
    "- 결정계수(R^2)"
   ]
  },
  {
   "cell_type": "code",
   "execution_count": 51,
   "id": "1236fc88",
   "metadata": {},
   "outputs": [
    {
     "data": {
      "text/plain": [
       "0.992809406101064"
      ]
     },
     "execution_count": 51,
     "metadata": {},
     "output_type": "execute_result"
    }
   ],
   "source": [
    "from sklearn.neighbors import KNeighborsRegressor\n",
    "\n",
    "knr = KNeighborsRegressor() # class 객체 할당\n",
    "\n",
    "# k-최근접 이웃 회귀 모델을 훈련합니다.\n",
    "knr.fit(train_input, train_target) # train, target 데이터 전달 & 훈련\n",
    "\n",
    "knr.score(test_input, test_target) # test_set 점수 확인(정확도)"
   ]
  },
  {
   "cell_type": "markdown",
   "id": "2f01e937",
   "metadata": {},
   "source": [
    "R**2 = 1 - (test_target - test_input)**2 / (test_target - test_target_mean)**2 [결정계수]"
   ]
  },
  {
   "cell_type": "markdown",
   "id": "22d9ad74",
   "metadata": {},
   "source": [
    "예측이 Target의 평균 예측? - R**2는 0에 가까워짐\n",
    "예측이 Target에 가까워지면? - R**2는 분자가 0에 가까워져서 1에 가까운 값이 됩니다. "
   ]
  },
  {
   "cell_type": "code",
   "execution_count": 52,
   "id": "70b617c5",
   "metadata": {},
   "outputs": [
    {
     "name": "stdout",
     "output_type": "stream",
     "text": [
      "19.157142857142862\n"
     ]
    }
   ],
   "source": [
    "# mean_absolute_error (평균 절대값 오차-이러한 측정 지표들이 sklearn에서 metrics library에 존재)\n",
    "from sklearn.metrics import mean_absolute_error\n",
    "\n",
    "test_prediction = knr.predict(test_input) # Test_input으로 예측한 값\n",
    "mae = mean_absolute_error(test_target, test_prediction) # Target & Test_prediction 으로 예측한값\n",
    "print(mae) # 19g 정도로 차이가 난다."
   ]
  },
  {
   "cell_type": "markdown",
   "id": "5d9a8fb8",
   "metadata": {},
   "source": [
    "### 과대 & 과소 적합\n",
    "k최근접 이웃 회귀모델\n",
    "- train_input, train_target\n",
    "- test_input, test_target\n",
    "\n",
    "- train score가 더 높고, test score가 더 낮은것이 일반적.\n",
    "- 과소적합(Underfitting): test_set score가 training_set 보다 높거나, 두 점수가 모두 너무 낮은 경우\n",
    "- 과대적합(Overfitting): training_set score가 좋은데, test_set socre에서는 점수가 나쁜경우"
   ]
  },
  {
   "cell_type": "code",
   "execution_count": 53,
   "id": "25fe36fe",
   "metadata": {
    "scrolled": true
   },
   "outputs": [
    {
     "data": {
      "text/plain": [
       "0.9698823289099254"
      ]
     },
     "execution_count": 53,
     "metadata": {},
     "output_type": "execute_result"
    }
   ],
   "source": [
    "knr.score(train_input, train_target)"
   ]
  },
  {
   "cell_type": "code",
   "execution_count": 54,
   "id": "afcb9c77",
   "metadata": {},
   "outputs": [
    {
     "data": {
      "text/plain": [
       "0.992809406101064"
      ]
     },
     "execution_count": 54,
     "metadata": {},
     "output_type": "execute_result"
    }
   ],
   "source": [
    "knr.score(test_input, test_target)"
   ]
  },
  {
   "cell_type": "markdown",
   "id": "a2a90cf5",
   "metadata": {},
   "source": [
    "### 이웃 개수 줄이기\n",
    "k-최근접 이웃 알고리즘의 개수 기본값은 5 -> 3으로 줄여서 다시 만들어봄\n",
    "- 이웃의 개수가 적어지면 (과대 적합), 전체 샘플의 적어지면 가장 가까운 target만 참고: training set에만 잘 맞는 모델이 만들어짐\n",
    "- 이웃의 개수가 많아지면 (과소 적합), 전체 샘플의 개수로 하면 1개의 값으로 예측 (분류,회귀등): 모델이 단순해짐"
   ]
  },
  {
   "cell_type": "code",
   "execution_count": 55,
   "id": "9107a212",
   "metadata": {},
   "outputs": [
    {
     "name": "stdout",
     "output_type": "stream",
     "text": [
      "0.9804899950518966\n"
     ]
    }
   ],
   "source": [
    "knr.n_neighbors = 3\n",
    "knr.fit(train_input, train_target)\n",
    "\n",
    "print(knr.score(train_input, train_target))"
   ]
  },
  {
   "cell_type": "code",
   "execution_count": 56,
   "id": "4b9efa46",
   "metadata": {},
   "outputs": [
    {
     "name": "stdout",
     "output_type": "stream",
     "text": [
      "0.9746459963987609\n"
     ]
    }
   ],
   "source": [
    "print(knr.score(test_input, test_target))"
   ]
  },
  {
   "cell_type": "code",
   "execution_count": 57,
   "id": "c609b473",
   "metadata": {},
   "outputs": [
    {
     "data": {
      "image/png": "[encoded data removed]",
      "text/plain": [
       "<Figure size 640x480 with 1 Axes>"
      ]
     },
     "metadata": {},
     "output_type": "display_data"
    }
   ],
   "source": [
    "plt.scatter(train_input, train_target)\n",
    "plt.scatter(test_input, test_target)\n",
    "plt.xlabel('length')\n",
    "plt.ylabel('weight')\n",
    "plt.show()"
   ]
  },
  {
   "cell_type": "code",
   "execution_count": null,
   "id": "35c99517",
   "metadata": {},
   "outputs": [],
   "source": []
  }
 ],
 "metadata": {
  "kernelspec": {
   "display_name": "Python 3 (ipykernel)",
   "language": "python",
   "name": "python3"
  },
  "language_info": {
   "codemirror_mode": {
    "name": "ipython",
    "version": 3
   },
   "file_extension": ".py",
   "mimetype": "text/x-python",
   "name": "python",
   "nbconvert_exporter": "python",
   "pygments_lexer": "ipython3",
   "version": "3.11.4"
  }
 },
 "nbformat": 4,
 "nbformat_minor": 5
}
