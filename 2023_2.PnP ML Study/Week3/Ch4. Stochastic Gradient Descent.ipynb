{
 "cells": [
  {
   "cell_type": "markdown",
   "id": "4b9dda03",
   "metadata": {},
   "source": [
    "### 확률적 경사 하강법\n",
    "- 무작위하게 or 랜덤하게 기술적인 표현\n",
    "- 경사를 따라 내려가는 방법을 말한다. (조금씩 수십, 수백번 최적점을 찾아서 내려간다.)"
   ]
  },
  {
   "cell_type": "markdown",
   "id": "211d1cb2",
   "metadata": {},
   "source": [
    "### 손실 함수\n",
    "- 머신러닝 알고리즘이 얼마나 나쁜지를 측정하는 함수\n",
    "- 단점: 샘플이 많이 없다면, 정확도가 듬성등성 측정이 되어서 경사 하강법을 이용해 조금씩 움직일 수 없음. (경사면은 연속적이여야 함)\n",
    "- 모델을 최척화 할땐 다른 함수 사용 (로지스틱 손실 함수, 이진 크로스엔트로피 손실 함수)"
   ]
  },
  {
   "cell_type": "markdown",
   "id": "d9758402",
   "metadata": {},
   "source": [
    "### 데이터 전처리\n",
    "- 확률적 경사 하강법은 가파른 경사를 내려가야 하기 때문에 scale이 각각 달라야 한다.\n",
    "- 경사하강법 알고리즘 사용시, 데이터 전처리 해서 대표적으로 표준점수로 특성의 scale 조절 필요"
   ]
  },
  {
   "cell_type": "code",
   "execution_count": 1,
   "id": "7da73f6e",
   "metadata": {},
   "outputs": [],
   "source": [
    "import pandas as pd\n",
    "fish = pd.read_csv('https://bit.ly/fish_csv_data')\n",
    "fish_input = fish[['Weight','Length','Diagonal','Height','Width']].to_numpy()\n",
    "fish_target = fish['Species'].to_numpy()"
   ]
  },
  {
   "cell_type": "code",
   "execution_count": 2,
   "id": "37b95011",
   "metadata": {},
   "outputs": [],
   "source": [
    "from sklearn.model_selection import train_test_split\n",
    "train_input, test_input, train_target, test_target = train_test_split(fish_input, fish_target, random_state=42)"
   ]
  },
  {
   "cell_type": "code",
   "execution_count": 3,
   "id": "19a87f64",
   "metadata": {},
   "outputs": [],
   "source": [
    "from sklearn.preprocessing import StandardScaler\n",
    "ss = StandardScaler()\n",
    "ss.fit(train_input)\n",
    "train_scaled = ss.transform(train_input)\n",
    "test_scaled = ss.transform(test_input)"
   ]
  },
  {
   "cell_type": "markdown",
   "id": "12847100",
   "metadata": {},
   "source": [
    "### SGDClassifier"
   ]
  },
  {
   "cell_type": "code",
   "execution_count": 4,
   "id": "94fc7f10",
   "metadata": {},
   "outputs": [],
   "source": [
    "from sklearn.linear_model import SGDClassifier"
   ]
  },
  {
   "cell_type": "code",
   "execution_count": 5,
   "id": "b80a60b4",
   "metadata": {},
   "outputs": [
    {
     "name": "stdout",
     "output_type": "stream",
     "text": [
      "0.8151260504201681\n",
      "0.8\n"
     ]
    },
    {
     "name": "stderr",
     "output_type": "stream",
     "text": [
      "/Users/daehyunkim/anaconda3/lib/python3.11/site-packages/sklearn/linear_model/_stochastic_gradient.py:713: ConvergenceWarning: Maximum number of iteration reached before convergence. Consider increasing max_iter to improve the fit.\n",
      "  warnings.warn(\n"
     ]
    }
   ],
   "source": [
    "# scikit-learn의 SGDClassifier는 확률적 경사하강법만 지원한다.\n",
    "# ConvergenceWarning 발생시, max_iter의 값을 늘려주는것이 좋다.\n",
    "sc = SGDClassifier(loss='log_loss', max_iter=10, random_state=42)\n",
    "sc.fit(train_scaled, train_target)\n",
    "\n",
    "print(sc.score(train_scaled, train_target)) # 정확도\n",
    "print(sc.score(test_scaled, test_target)) # 정확도"
   ]
  },
  {
   "cell_type": "code",
   "execution_count": 6,
   "id": "458584ea",
   "metadata": {},
   "outputs": [
    {
     "name": "stdout",
     "output_type": "stream",
     "text": [
      "0.8067226890756303\n",
      "0.8\n"
     ]
    }
   ],
   "source": [
    "# scikit-learn 에서 epoch를 늘려가면, max_iter를 크게 하면 모델이 많이 훈련된 과대 적합으로 갈 수 있다.\n",
    "sc.partial_fit(train_scaled, train_target)\n",
    "\n",
    "print(sc.score(train_scaled, train_target))\n",
    "print(sc.score(test_scaled, test_target))"
   ]
  },
  {
   "cell_type": "markdown",
   "id": "ec17252b",
   "metadata": {},
   "source": [
    "### Epoch와 과대/과소적합 & 조기종료\n",
    "- 규제값이 작아지면 훈련세트 과대적합 & 점수 높아짐, test 점수 내려감\n",
    "- 규제값이 커지면 훈련, 테스트 점수가 낮아짐 (과소적합)\n",
    "- epoch도 비슷, 많이 훈련할수록 훈련세트는 잘 맞지만, 테스트 세트 점수가 내려가는 현상 발생\n",
    "- epoch가 작으면, 과소적합된 훈련, 테스트 세트의 성능이 떨어짐\n",
    "- 그래서, 중간지점. 테스트 세트의 성능이 떨어지기전, 훈련세트와 유사하게 만나는 절충점을 파악하고 그 지점까지 epoch를 훈련시켜야함 (조기종료, early stopping)이라고 한다."
   ]
  },
  {
   "cell_type": "code",
   "execution_count": 19,
   "id": "357240b9",
   "metadata": {},
   "outputs": [],
   "source": [
    "import numpy as np\n",
    "sc = SGDClassifier(loss='log_loss', random_state=42)\n",
    "train_score = []\n",
    "test_score = []\n",
    "\n",
    "classes = np.unique(train_target)"
   ]
  },
  {
   "cell_type": "code",
   "execution_count": 20,
   "id": "f8ea66ca",
   "metadata": {},
   "outputs": [],
   "source": [
    "# 300번의 epoch 반복해서 훈련\n",
    "# partial_fit는 훈련세트의 일부만 주어진다고 가정, 전체 sample의 나올수 있는 class개수 목록를 전달해줘야함\n",
    "for _ in range(0,300):\n",
    "    sc.partial_fit(train_scaled, train_target, classes=classes)\n",
    "    train_score.append(sc.score(train_scaled, train_target))\n",
    "    test_score.append(sc.score(test_scaled, test_target))"
   ]
  },
  {
   "cell_type": "code",
   "execution_count": 22,
   "id": "57ceb3f5",
   "metadata": {},
   "outputs": [
    {
     "data": {
      "image/png": "[encoded data removed]",
      "text/plain": [
       "<Figure size 640x480 with 1 Axes>"
      ]
     },
     "metadata": {},
     "output_type": "display_data"
    }
   ],
   "source": [
    "# 그래프를 보면 100정도의 epoch가 절충점이라고 판단.\n",
    "import matplotlib.pyplot as plt\n",
    "plt.plot(train_score) # training_score(blue)\n",
    "plt.plot(test_score) # test_score(yellow)\n",
    "plt.xlabel('epoch')\n",
    "plt.ylabel('accuracy')\n",
    "plt.show()"
   ]
  },
  {
   "cell_type": "code",
   "execution_count": 23,
   "id": "8a4bc773",
   "metadata": {},
   "outputs": [
    {
     "name": "stdout",
     "output_type": "stream",
     "text": [
      "0.957983193277311\n",
      "0.925\n"
     ]
    }
   ],
   "source": [
    "sc = SGDClassifier(loss='log_loss', max_iter=100, tol=None, random_state=42)\n",
    "sc.fit(train_scaled, train_target)\n",
    "\n",
    "print(sc.score(train_scaled, train_target)) # training_set 성능: 96%\n",
    "print(sc.score(test_scaled, test_target)) # test_set 성능: 93%"
   ]
  },
  {
   "cell_type": "markdown",
   "id": "f5a376a5",
   "metadata": {},
   "source": [
    "### 흰지 손실 (hinge loss)\n",
    "- support vector machine (또 다른 머신러닝 알고리즘을 위한 손실 함수)"
   ]
  },
  {
   "cell_type": "code",
   "execution_count": 25,
   "id": "a7c133e8",
   "metadata": {},
   "outputs": [
    {
     "name": "stdout",
     "output_type": "stream",
     "text": [
      "0.9495798319327731\n",
      "0.925\n"
     ]
    }
   ],
   "source": [
    "sc = SGDClassifier(loss='hinge', max_iter=100, tol=None, random_state=42)\n",
    "sc.fit(train_scaled, train_target)\n",
    "\n",
    "print(sc.score(train_scaled, train_target)) # training_set 성능: 96%\n",
    "print(sc.score(test_scaled, test_target)) # test_set 성능: 93%"
   ]
  },
  {
   "cell_type": "code",
   "execution_count": null,
   "id": "12ce3d11",
   "metadata": {},
   "outputs": [],
   "source": []
  }
 ],
 "metadata": {
  "kernelspec": {
   "display_name": "Python 3 (ipykernel)",
   "language": "python",
   "name": "python3"
  },
  "language_info": {
   "codemirror_mode": {
    "name": "ipython",
    "version": 3
   },
   "file_extension": ".py",
   "mimetype": "text/x-python",
   "name": "python",
   "nbconvert_exporter": "python",
   "pygments_lexer": "ipython3",
   "version": "3.11.4"
  }
 },
 "nbformat": 4,
 "nbformat_minor": 5
}
