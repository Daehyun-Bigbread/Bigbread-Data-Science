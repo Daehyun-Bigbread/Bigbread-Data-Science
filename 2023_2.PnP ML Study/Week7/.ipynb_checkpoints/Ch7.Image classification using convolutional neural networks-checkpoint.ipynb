{
 "cells": [
  {
   "cell_type": "code",
   "execution_count": 4,
   "id": "fecbcf1c",
   "metadata": {},
   "outputs": [],
   "source": [
    "# (48000, 28, 28) 크기인 train_input이\n",
    "# (48000, 28, 28, 1) 크기인 train_scaled이 되었다.\n",
    "from tensorflow import keras\n",
    "from sklearn.model_selection import train_test_split\n",
    "\n",
    "(train_input, train_target), (test_input, test_target) = keras.datasets.fashion_mnist.load_data()\n",
    "\n",
    "train_scaled = train_input.reshape(-1, 28, 28, 1) / 255.0\n",
    "\n",
    "train_scaled, val_scaled, train_target, val_target = train_test_split(\n",
    "    train_scaled, train_target, test_size=0.2, random_state=42)\n"
   ]
  },
  {
   "cell_type": "markdown",
   "id": "6d2c2202",
   "metadata": {},
   "source": [
    "### 합성곱 신경망 만들기\n",
    "- Sequential 클래스의 객체를 만들고 첫 번째 합성곱 층인 Conv2D를 추가\n",
    "- 모델의 add() 메서드를 사용해 층을 하나씩 차례대로 추가"
   ]
  },
  {
   "cell_type": "code",
   "execution_count": 7,
   "id": "9d1c14f4",
   "metadata": {},
   "outputs": [],
   "source": [
    "# 32개의 필터 사용, 커널 크기는 (3, 3), relu 함수, same padding\n",
    "model = keras.Sequential()\n",
    "model.add(keras.layers.Conv2D(32, kernel_size=3, activation='relu', padding='same', input_shape=(28, 28, 1)))"
   ]
  },
  {
   "cell_type": "code",
   "execution_count": 9,
   "id": "ade191d2",
   "metadata": {},
   "outputs": [],
   "source": [
    "# (28 28)크기에 세임 패딩을 적용했기 때문에 합성곱 층에서 출력된 특성 맵의 가로세로 크기는 입력과 동일\n",
    "# (2,2) 풀링을 적용 -> 특성 맵의 크기는 줄어듬. (28, 28, 32) -> (14, 14, 32)\n",
    "model.add(keras.layers.MaxPooling2D(2))"
   ]
  },
  {
   "cell_type": "code",
   "execution_count": 10,
   "id": "d46c0233",
   "metadata": {},
   "outputs": [],
   "source": [
    "# 첫번째 합성곱-풀링층 다음에 두번째 합성곱-풀링층 추가. 둘다 거이 동일(필터의 개수만 64개로 늘런거 뻬고)\n",
    "model.add(keras.layers.Conv2D(32, kernel_size=3, activation='relu', padding='same'))\n",
    "model.add(keras.layers.MaxPooling2D(2))"
   ]
  },
  {
   "cell_type": "code",
   "execution_count": null,
   "id": "42e69501",
   "metadata": {},
   "outputs": [],
   "source": []
  }
 ],
 "metadata": {
  "kernelspec": {
   "display_name": "Python 3 (ipykernel)",
   "language": "python",
   "name": "python3"
  },
  "language_info": {
   "codemirror_mode": {
    "name": "ipython",
    "version": 3
   },
   "file_extension": ".py",
   "mimetype": "text/x-python",
   "name": "python",
   "nbconvert_exporter": "python",
   "pygments_lexer": "ipython3",
   "version": "3.11.4"
  }
 },
 "nbformat": 4,
 "nbformat_minor": 5
}
