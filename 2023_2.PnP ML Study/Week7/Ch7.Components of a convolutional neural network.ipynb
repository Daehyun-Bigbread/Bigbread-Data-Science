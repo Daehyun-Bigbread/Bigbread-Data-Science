{
 "cells": [
  {
   "cell_type": "markdown",
   "id": "83663060",
   "metadata": {},
   "source": [
    "합성곱: 입력 데이터에 유용한 특성만 드러나게함\n",
    "- 각특성에 뉴런의 가중치(w)를 곱하고 절편 더하기 -> 1개의 출력"
   ]
  },
  {
   "cell_type": "code",
   "execution_count": 1,
   "id": "6d1a49f4",
   "metadata": {},
   "outputs": [],
   "source": [
    "# example\n",
    "nenron = [3, 1, 0, 7, 6, 4, 8, 2, 4, 5]"
   ]
  },
  {
   "cell_type": "markdown",
   "id": "d9a2ca20",
   "metadata": {},
   "source": [
    "3 x w1 + 1 x w2 + 0 x w3 + 7 x w4 + 6 x w5 + 4 x w6 + 8 x w7 + 2 x w8 + 4 x w9 + 5 x w10 + b"
   ]
  },
  {
   "cell_type": "markdown",
   "id": "2d72e07e",
   "metadata": {},
   "source": [
    "- 만약에 가중치를 3을 준다면? -> w1~3\n",
    "- 가중치 n번: w1~wn\n",
    "- 3 x w1 + 1 x w2 + 0 x w3 + b - 1번 출력시\n",
    "- 1 x w2 + 0 x w3 + 7 x w4 + b - 2번 출력시 = 시작점이 한칸 옆으로 이동하면서 출력"
   ]
  },
  {
   "cell_type": "markdown",
   "id": "3ba02cb9",
   "metadata": {},
   "source": [
    "- 합성곱은 왼쪽위 첫번째 칸부터 시작"
   ]
  },
  {
   "cell_type": "markdown",
   "id": "f1e2e63e",
   "metadata": {},
   "source": [
    "### 케라스 합성곱 층\n",
    "- 합성곱 층도 입력위를 (왼쪽에서 오른쪽으로, 위에서 아래로) 이동"
   ]
  },
  {
   "cell_type": "code",
   "execution_count": null,
   "id": "eb171e8b",
   "metadata": {},
   "outputs": [],
   "source": [
    "from tensorflow import keras\n",
    "keras.layers.Conv2D(10, kernel_size=(3,3), activation='relu')"
   ]
  },
  {
   "cell_type": "markdown",
   "id": "766ba9a3",
   "metadata": {},
   "source": [
    "- Conv2D 클래스의 첫 번째 매개변수는 필터(도장!)의 개수\n",
    "- kernel_size 매개변수는 필터에 사용할 커널의 크기를 지정"
   ]
  },
  {
   "cell_type": "markdown",
   "id": "a7c57429",
   "metadata": {},
   "source": [
    "### 패딩과 스트라이드"
   ]
  },
  {
   "cell_type": "markdown",
   "id": "225ea23d",
   "metadata": {},
   "source": [
    "- 합성곱 계산은 (4,4) 크기의 입력에 (3,3) 크기의 커널을 적용하여 (2,2) 크기의 특성맵을 만들었다고 합시다.\n",
    "- 만약에 커널 크기는 (3,3)으로 두고 출력의 크기를 (4,4)로 하면?\n",
    "- (4,4) 입력과 동일한 크기의 출력을 만들려고 하면, 마치 더 큰 입력에 합성곱 하는 척 해야 한다.\n",
    "- (6,6) 크기로 만들면 주변의 입력 주위의 배열의 값들을 0으로 채워야 한다. -> 이걸 패당(Padding)이라고 한다.\n",
    "- 이렇게 입력 & 특성맵의 크기를 동일하게 만들기 위하여 입력 주위에 0으로 패딩 하는 것을 새임 패딩이라고 부른다.\n",
    "- 패딩없이 순수한 입력 배열에서만 합성곱을 하여 특성 맵을 만드는 경우를 밸리드 패딩이라고 한다."
   ]
  },
  {
   "cell_type": "code",
   "execution_count": null,
   "id": "4498889e",
   "metadata": {},
   "outputs": [],
   "source": [
    "# valid padding\n",
    "keras.layes.Conv2D(10, kernel_size=(3,3), activation='relu', padding='same')"
   ]
  },
  {
   "cell_type": "markdown",
   "id": "997b401c",
   "metadata": {},
   "source": [
    "- 합성곱 연산은 좌우, 위아래 한칸씩 이동 말고 2칸씩 건너 뛰고 싶으면, 이런 이동의 크기를 스트라이드라고 하는데, 스트라이드 매개변수의 값을 2로 늘려주면 된다."
   ]
  },
  {
   "cell_type": "code",
   "execution_count": null,
   "id": "ec86d2b4",
   "metadata": {},
   "outputs": [],
   "source": [
    "# stride 매개변수 1->2, 합성곱 연산을 2칸씩 이동\n",
    "keras.layes.Conv2D(10, kernel_size=(3,3), activation='relu', padding='same', strides=2)"
   ]
  },
  {
   "cell_type": "markdown",
   "id": "f40bc89e",
   "metadata": {},
   "source": [
    "### 풀링\n",
    "- 합성곱 층에서 만든 특성 맵의 가로세로 크기를 줄이는 역할을 수행. but, 특성맵의 개수는 줄이지 않는다.\n",
    "- example) (2,2,3)특성맵에 풀링 적용시, 마지막 차원인 개수는 유지, 너비 & 높이만 줄어들어 (1,1,3) 크기의 특성맵이 된다.\n",
    "- 풀링도 합성곱처럼 입력위를 지나가면서 도장을 찍음, but 가중치는 없다.\n",
    "- 도장을 찍은 영역에서 가장 큰 값을 고르거나 평균값 계산 -> 최대 풀링, 평균 풀링"
   ]
  },
  {
   "cell_type": "code",
   "execution_count": null,
   "id": "644963d1",
   "metadata": {},
   "outputs": [],
   "source": [
    "# Pooling - 첫번재 매개변수로 풀링의 크기를 지정 (가로,세로 크기를 절반으로 줄인다.)\n",
    "# 만약, 가로세로 방향의 풀링 크기를 다르게 하려면 첫번쩨 메개변수를 정수의 튜를로 지정 가능.\n",
    "keras.layers.MaxPooling2D(2)"
   ]
  },
  {
   "cell_type": "code",
   "execution_count": null,
   "id": "1f704fef",
   "metadata": {},
   "outputs": [],
   "source": [
    "# 합성곱 층과 마찬가지로 strides & padding 매개변수를 제공\n",
    "# strides의 기본값은 자동으로 풀링의 크기이므로 따로 지정할 필요가 없음\n",
    "# padding의 기본값은 ‘valid’로 패딩을 하지 않음\n",
    "keras.layers.MaxPooling2D(2, strides=2, padding='valid')"
   ]
  },
  {
   "cell_type": "markdown",
   "id": "49dde1cf",
   "metadata": {},
   "source": [
    "- AveragePooling2D: 평균 풀링을 제공\n",
    "- 최대값 대신 평균 계산하는것만 빼면 MaxPooling2D와 동일\n",
    "- 많은 경우 평균 풀링보다 최대 풀링을 많이 사용 -> 평균 풀링은 특성맵에 있는 중요 정보를 희석 시킬수 있기 때문 (!풀링은 가로세로 방향으로만 진행)"
   ]
  }
 ],
 "metadata": {
  "kernelspec": {
   "display_name": "Python 3 (ipykernel)",
   "language": "python",
   "name": "python3"
  },
  "language_info": {
   "codemirror_mode": {
    "name": "ipython",
    "version": 3
   },
   "file_extension": ".py",
   "mimetype": "text/x-python",
   "name": "python",
   "nbconvert_exporter": "python",
   "pygments_lexer": "ipython3",
   "version": "3.11.4"
  }
 },
 "nbformat": 4,
 "nbformat_minor": 5
}
