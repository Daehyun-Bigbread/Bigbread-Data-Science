{
  "nbformat": 4,
  "nbformat_minor": 0,
  "metadata": {
    "colab": {
      "provenance": []
    },
    "kernelspec": {
      "name": "python3",
      "display_name": "Python 3"
    }
  },
  "cells": [
    {
      "cell_type": "markdown",
      "source": [
        "## 2-3. 어휘 집합 구축하기\n",
        "### BPE 기반 Tokenizer 만들기"
      ],
      "metadata": {
        "id": "A4_GZi8ElgA_"
      }
    },
    {
      "cell_type": "markdown",
      "source": [
        "### 1단계: 실습 환경 만들기"
      ],
      "metadata": {
        "id": "bHXkNCgalkll"
      }
    },
    {
      "cell_type": "markdown",
      "metadata": {
        "id": "8oaGGhdmYKqt"
      },
      "source": [
        "pip 명령어로 의존성 있는 패키지를 설치합니다.\n",
        "\n"
      ]
    },
    {
      "cell_type": "code",
      "metadata": {
        "id": "t8TJkXkpDnSq"
      },
      "source": [
        "!pip install ratsnlp"
      ],
      "execution_count": null,
      "outputs": []
    },
    {
      "cell_type": "markdown",
      "metadata": {
        "id": "LvPQbN7vs50o"
      },
      "source": [
        "### 2단계: 구글 드라이브 연동하기\n"
      ]
    },
    {
      "cell_type": "code",
      "metadata": {
        "id": "EpjMKSVWs6B2"
      },
      "source": [
        "from google.colab import drive\n",
        "drive.mount('/gdrive', force_remount=True)"
      ],
      "execution_count": null,
      "outputs": []
    },
    {
      "cell_type": "markdown",
      "metadata": {
        "id": "TFt_JLYoTKA6"
      },
      "source": [
        "### 3단계: 말뭉치 다운로드 및 전처리\n",
        "\n",
        "- 코포라(Korpora)를 활용해 BPE 수행 대상 말뭉치를 내려받고 전처리.\n",
        "- 실습용 말뭉치는 박은정 님이 공개하신 Naver Sentiment Movie Corpus(NSMC)\n",
        "- 데이터를 내려받아 `nsmc`라는 변수로 읽어들입니다."
      ]
    },
    {
      "cell_type": "code",
      "metadata": {
        "id": "bThW-2OrTHZW"
      },
      "source": [
        "from Korpora import Korpora\n",
        "nsmc = Korpora.load(\"nsmc\", force_download=True)"
      ],
      "execution_count": null,
      "outputs": []
    },
    {
      "cell_type": "markdown",
      "metadata": {
        "id": "K0NCnzpRTdnJ"
      },
      "source": [
        "- NSMC에 포함된 영화 리뷰(순수 텍스트)들을 지정된 경로에 저장."
      ]
    },
    {
      "cell_type": "code",
      "metadata": {
        "id": "FSVDbnFUTiXx"
      },
      "source": [
        "import os\n",
        "def write_lines(path, lines):\n",
        "    with open(path, 'w', encoding='utf-8') as f:\n",
        "        for line in lines:\n",
        "            f.write(f'{line}\\n')\n",
        "\n",
        "write_lines(\"/content/train.txt\", nsmc.train.get_all_texts())\n",
        "write_lines(\"/content/test.txt\", nsmc.test.get_all_texts())"
      ],
      "execution_count": null,
      "outputs": []
    },
    {
      "cell_type": "markdown",
      "metadata": {
        "id": "sWboOauTTyXp"
      },
      "source": [
        "`train.txt`의 앞부분 확인 - train_data"
      ]
    },
    {
      "cell_type": "code",
      "metadata": {
        "id": "tup5LreLT4vE"
      },
      "source": [
        "!head train.txt"
      ],
      "execution_count": null,
      "outputs": []
    },
    {
      "cell_type": "markdown",
      "metadata": {
        "id": "dMKHuGgyT8aw"
      },
      "source": [
        "`test.txt`의 앞부분 확인 - test_data"
      ]
    },
    {
      "cell_type": "code",
      "metadata": {
        "id": "nI5EpyyaT_fl"
      },
      "source": [
        "!head test.txt"
      ],
      "execution_count": null,
      "outputs": []
    },
    {
      "cell_type": "markdown",
      "metadata": {
        "id": "8Y2JYqRGUFll"
      },
      "source": [
        "### 4단계: GPT 토크나이저 구축\n",
        "\n",
        "- GPT 계열 모델이 사용하는 토크나이저 ->  Byte-level Byte Pair Encoding(BBPE)입니다.\n",
        "- 어휘집합 구축 결과를 저장해둘 디렉토리를 구글 드라이브 계정 내 `내 드라이브/nlpbook/bbpe`로 만들어 둠."
      ]
    },
    {
      "cell_type": "code",
      "metadata": {
        "id": "HMsp3GRVuGg7"
      },
      "source": [
        "import os\n",
        "os.makedirs(\"/gdrive/My Drive/nlpbook/bbpe\", exist_ok=True)"
      ],
      "execution_count": null,
      "outputs": []
    },
    {
      "cell_type": "markdown",
      "metadata": {
        "id": "Z2jwK4iwvB1l"
      },
      "source": [
        "- `nsmc` 데이터를 가지고 BBPE 어휘집합을 구축 (시간 조금 소요)"
      ]
    },
    {
      "cell_type": "code",
      "metadata": {
        "id": "9Rk2Ga65USFb"
      },
      "source": [
        "from tokenizers import ByteLevelBPETokenizer\n",
        "bytebpe_tokenizer = ByteLevelBPETokenizer()\n",
        "bytebpe_tokenizer.train(\n",
        "    files=[\"/content/train.txt\", \"/content/test.txt\"],\n",
        "    vocab_size=10000,\n",
        "    special_tokens=[\"[PAD]\"]\n",
        ")\n",
        "bytebpe_tokenizer.save_model(\"/gdrive/My Drive/nlpbook/bbpe\")"
      ],
      "execution_count": null,
      "outputs": []
    },
    {
      "cell_type": "markdown",
      "metadata": {
        "id": "wLq1JRVJUb7U"
      },
      "source": [
        "- 코드 실행이 끝나면 자신의 구글 드라이브 경로(`/gdrive/My Drive/nlpbook/bbpe`)에 `vocab.json`과 `merges.txt`가 생성.\n",
        "- 전자는 바이트 레벨 BPE의 어휘 집합이며 후자는 바이그램 쌍의 병합 우선순위\n",
        "- `vocab.json`은 다음과 같이 생김."
      ]
    },
    {
      "cell_type": "code",
      "metadata": {
        "id": "XZl8OKdsVIQg"
      },
      "source": [
        "!cat /gdrive/My\\ Drive/nlpbook/bbpe/vocab.json"
      ],
      "execution_count": null,
      "outputs": []
    },
    {
      "cell_type": "markdown",
      "metadata": {
        "id": "etZsJ4SrVXnS"
      },
      "source": [
        "- `merges.txt`의 앞부분은 다음과 같이 생김."
      ]
    },
    {
      "cell_type": "code",
      "metadata": {
        "id": "LzkJ31vQVbjl"
      },
      "source": [
        "!head /gdrive/My\\ Drive/nlpbook/bbpe/merges.txt"
      ],
      "execution_count": null,
      "outputs": []
    },
    {
      "cell_type": "markdown",
      "metadata": {
        "id": "wR-3V6zIVsPp"
      },
      "source": [
        "### 5단계: BERT 토크나이저 구축\n",
        "\n",
        "- BERT는 워드피스(wordpiece) 토크나이저를 사용.\n",
        "- 우선 어휘집합 구축 결과를 저장해둘 디렉토리를 자신의 구글 드라이브 계정 내 `내 드라이브/nlpbook/bbpe`로 만들어둠."
      ]
    },
    {
      "cell_type": "code",
      "metadata": {
        "id": "aObMCetww3YU"
      },
      "source": [
        "import os\n",
        "os.makedirs(\"/gdrive/My Drive/nlpbook/wordpiece\", exist_ok=True)"
      ],
      "execution_count": null,
      "outputs": []
    },
    {
      "cell_type": "markdown",
      "metadata": {
        "id": "jzmRa-NPw3l_"
      },
      "source": [
        "- 다음을 수행하면 BERT 모델이 사용하는 워드피스 어휘집합을 구축.(시간이 걸림)"
      ]
    },
    {
      "cell_type": "code",
      "metadata": {
        "id": "FdvUPuJoV3w3"
      },
      "source": [
        "from tokenizers import BertWordPieceTokenizer\n",
        "wordpiece_tokenizer = BertWordPieceTokenizer(lowercase=False)\n",
        "wordpiece_tokenizer.train(\n",
        "    files=[\"/content/train.txt\", \"/content/test.txt\"],\n",
        "    vocab_size=10000,\n",
        ")\n",
        "wordpiece_tokenizer.save_model(\"/gdrive/My Drive/nlpbook/wordpiece\")"
      ],
      "execution_count": null,
      "outputs": []
    },
    {
      "cell_type": "markdown",
      "metadata": {
        "id": "W0S2EbdkWIdq"
      },
      "source": [
        "- 코드 실행이 끝나면 자신의 구글 드라이브 경로(`/gdrive/My Drive/nlpbook/wordpiece`)에 `vocab.txt`가 생성\n",
        "- `vocab.txt`의 앞부분은 다음과 같이 생김."
      ]
    },
    {
      "cell_type": "code",
      "metadata": {
        "id": "YOWkywHaWOL6"
      },
      "source": [
        "!head /gdrive/My\\ Drive/nlpbook/wordpiece/vocab.txt"
      ],
      "execution_count": null,
      "outputs": []
    }
  ]
}